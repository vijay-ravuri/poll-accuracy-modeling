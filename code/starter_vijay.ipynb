{
 "cells": [
  {
   "cell_type": "code",
   "execution_count": 1,
   "metadata": {},
   "outputs": [],
   "source": [
    "import pandas as pd\n",
    "import numpy as np\n",
    "\n",
    "import matplotlib.pyplot as plt\n",
    "import seaborn as sns"
   ]
  },
  {
   "cell_type": "code",
   "execution_count": 2,
   "metadata": {},
   "outputs": [
    {
     "data": {
      "text/html": [
       "<div>\n",
       "<style scoped>\n",
       "    .dataframe tbody tr th:only-of-type {\n",
       "        vertical-align: middle;\n",
       "    }\n",
       "\n",
       "    .dataframe tbody tr th {\n",
       "        vertical-align: top;\n",
       "    }\n",
       "\n",
       "    .dataframe thead th {\n",
       "        text-align: right;\n",
       "    }\n",
       "</style>\n",
       "<table border=\"1\" class=\"dataframe\">\n",
       "  <thead>\n",
       "    <tr style=\"text-align: right;\">\n",
       "      <th></th>\n",
       "      <th>Rank</th>\n",
       "      <th>Pollster</th>\n",
       "      <th>Pollster Rating ID</th>\n",
       "      <th>Polls Analyzed</th>\n",
       "      <th>AAPOR/Roper</th>\n",
       "      <th>Banned by 538</th>\n",
       "      <th>Predictive Plus-Minus</th>\n",
       "      <th>538 Grade</th>\n",
       "      <th>Mean-Reverted Bias</th>\n",
       "      <th>Races Called Correctly</th>\n",
       "      <th>...</th>\n",
       "      <th>Simple Average Error</th>\n",
       "      <th>Simple Expected Error</th>\n",
       "      <th>Simple Plus-Minus</th>\n",
       "      <th>Advanced Plus-Minus</th>\n",
       "      <th>Mean-Reverted Advanced Plus-Minus</th>\n",
       "      <th># of Polls for Bias Analysis</th>\n",
       "      <th>Bias</th>\n",
       "      <th>House Effect</th>\n",
       "      <th>Average Distance from Polling Average (ADPA)</th>\n",
       "      <th>Herding Penalty</th>\n",
       "    </tr>\n",
       "  </thead>\n",
       "  <tbody>\n",
       "    <tr>\n",
       "      <th>0</th>\n",
       "      <td>1</td>\n",
       "      <td>The New York Times/Siena College</td>\n",
       "      <td>448</td>\n",
       "      <td>95</td>\n",
       "      <td>yes</td>\n",
       "      <td>no</td>\n",
       "      <td>-1.192860</td>\n",
       "      <td>A+</td>\n",
       "      <td>1.006012</td>\n",
       "      <td>0.747368</td>\n",
       "      <td>...</td>\n",
       "      <td>4.043250</td>\n",
       "      <td>5.364792</td>\n",
       "      <td>-1.318429</td>\n",
       "      <td>-1.625523</td>\n",
       "      <td>-1.318372</td>\n",
       "      <td>94</td>\n",
       "      <td>1.243260</td>\n",
       "      <td>0.700506</td>\n",
       "      <td>3.575558</td>\n",
       "      <td>0.261188</td>\n",
       "    </tr>\n",
       "    <tr>\n",
       "      <th>1</th>\n",
       "      <td>2</td>\n",
       "      <td>Selzer &amp; Co.</td>\n",
       "      <td>304</td>\n",
       "      <td>53</td>\n",
       "      <td>yes</td>\n",
       "      <td>no</td>\n",
       "      <td>-1.175911</td>\n",
       "      <td>A+</td>\n",
       "      <td>0.161120</td>\n",
       "      <td>0.811321</td>\n",
       "      <td>...</td>\n",
       "      <td>4.916848</td>\n",
       "      <td>5.959235</td>\n",
       "      <td>-1.039274</td>\n",
       "      <td>-1.622671</td>\n",
       "      <td>-1.000844</td>\n",
       "      <td>35</td>\n",
       "      <td>0.297645</td>\n",
       "      <td>-0.343495</td>\n",
       "      <td>5.288403</td>\n",
       "      <td>0.000000</td>\n",
       "    </tr>\n",
       "    <tr>\n",
       "      <th>2</th>\n",
       "      <td>3</td>\n",
       "      <td>Research &amp; Polling Inc.</td>\n",
       "      <td>280</td>\n",
       "      <td>44</td>\n",
       "      <td>no</td>\n",
       "      <td>no</td>\n",
       "      <td>-0.965392</td>\n",
       "      <td>A+</td>\n",
       "      <td>-0.582568</td>\n",
       "      <td>0.886364</td>\n",
       "      <td>...</td>\n",
       "      <td>4.177286</td>\n",
       "      <td>5.548050</td>\n",
       "      <td>-1.367651</td>\n",
       "      <td>-1.938115</td>\n",
       "      <td>-1.183301</td>\n",
       "      <td>43</td>\n",
       "      <td>-0.956078</td>\n",
       "      <td>0.632896</td>\n",
       "      <td>4.642076</td>\n",
       "      <td>0.286276</td>\n",
       "    </tr>\n",
       "    <tr>\n",
       "      <th>3</th>\n",
       "      <td>4</td>\n",
       "      <td>SurveyUSA</td>\n",
       "      <td>325</td>\n",
       "      <td>856</td>\n",
       "      <td>no</td>\n",
       "      <td>no</td>\n",
       "      <td>-0.917320</td>\n",
       "      <td>A+</td>\n",
       "      <td>0.003251</td>\n",
       "      <td>0.891355</td>\n",
       "      <td>...</td>\n",
       "      <td>4.681671</td>\n",
       "      <td>5.642531</td>\n",
       "      <td>-0.957747</td>\n",
       "      <td>-1.094410</td>\n",
       "      <td>-1.043528</td>\n",
       "      <td>697</td>\n",
       "      <td>0.003447</td>\n",
       "      <td>-0.526230</td>\n",
       "      <td>4.969035</td>\n",
       "      <td>0.126963</td>\n",
       "    </tr>\n",
       "    <tr>\n",
       "      <th>4</th>\n",
       "      <td>5</td>\n",
       "      <td>Marquette University Law School</td>\n",
       "      <td>195</td>\n",
       "      <td>15</td>\n",
       "      <td>yes</td>\n",
       "      <td>no</td>\n",
       "      <td>-0.908215</td>\n",
       "      <td>A/B</td>\n",
       "      <td>0.237527</td>\n",
       "      <td>0.800000</td>\n",
       "      <td>...</td>\n",
       "      <td>2.846556</td>\n",
       "      <td>5.938505</td>\n",
       "      <td>-3.088836</td>\n",
       "      <td>-3.191347</td>\n",
       "      <td>-1.208475</td>\n",
       "      <td>11</td>\n",
       "      <td>0.751227</td>\n",
       "      <td>-0.199840</td>\n",
       "      <td>4.201278</td>\n",
       "      <td>0.257600</td>\n",
       "    </tr>\n",
       "  </tbody>\n",
       "</table>\n",
       "<p>5 rows × 21 columns</p>\n",
       "</div>"
      ],
      "text/plain": [
       "   Rank                          Pollster  Pollster Rating ID  Polls Analyzed  \\\n",
       "0     1  The New York Times/Siena College                 448              95   \n",
       "1     2                      Selzer & Co.                 304              53   \n",
       "2     3           Research & Polling Inc.                 280              44   \n",
       "3     4                         SurveyUSA                 325             856   \n",
       "4     5   Marquette University Law School                 195              15   \n",
       "\n",
       "  AAPOR/Roper Banned by 538  Predictive Plus-Minus 538 Grade  \\\n",
       "0         yes            no              -1.192860        A+   \n",
       "1         yes            no              -1.175911        A+   \n",
       "2          no            no              -0.965392        A+   \n",
       "3          no            no              -0.917320        A+   \n",
       "4         yes            no              -0.908215       A/B   \n",
       "\n",
       "   Mean-Reverted Bias  Races Called Correctly  ...  Simple Average Error  \\\n",
       "0            1.006012                0.747368  ...              4.043250   \n",
       "1            0.161120                0.811321  ...              4.916848   \n",
       "2           -0.582568                0.886364  ...              4.177286   \n",
       "3            0.003251                0.891355  ...              4.681671   \n",
       "4            0.237527                0.800000  ...              2.846556   \n",
       "\n",
       "   Simple Expected Error  Simple Plus-Minus  Advanced Plus-Minus  \\\n",
       "0               5.364792          -1.318429            -1.625523   \n",
       "1               5.959235          -1.039274            -1.622671   \n",
       "2               5.548050          -1.367651            -1.938115   \n",
       "3               5.642531          -0.957747            -1.094410   \n",
       "4               5.938505          -3.088836            -3.191347   \n",
       "\n",
       "   Mean-Reverted Advanced Plus-Minus  # of Polls for Bias Analysis      Bias  \\\n",
       "0                          -1.318372                            94  1.243260   \n",
       "1                          -1.000844                            35  0.297645   \n",
       "2                          -1.183301                            43 -0.956078   \n",
       "3                          -1.043528                           697  0.003447   \n",
       "4                          -1.208475                            11  0.751227   \n",
       "\n",
       "   House Effect  Average Distance from Polling Average (ADPA)  Herding Penalty  \n",
       "0      0.700506                                      3.575558         0.261188  \n",
       "1     -0.343495                                      5.288403         0.000000  \n",
       "2      0.632896                                      4.642076         0.286276  \n",
       "3     -0.526230                                      4.969035         0.126963  \n",
       "4     -0.199840                                      4.201278         0.257600  \n",
       "\n",
       "[5 rows x 21 columns]"
      ]
     },
     "execution_count": 2,
     "metadata": {},
     "output_type": "execute_result"
    }
   ],
   "source": [
    "df = pd.read_csv('../data/pollster-ratings.csv')\n",
    "\n",
    "df.head()"
   ]
  },
  {
   "cell_type": "code",
   "execution_count": 3,
   "metadata": {},
   "outputs": [
    {
     "data": {
      "text/plain": [
       "Index(['Rank', 'Pollster', 'Pollster Rating ID', 'Polls Analyzed',\n",
       "       'AAPOR/Roper', 'Banned by 538', 'Predictive Plus-Minus', '538 Grade',\n",
       "       'Mean-Reverted Bias', 'Races Called Correctly', 'Misses Outside MOE',\n",
       "       'Simple Average Error', 'Simple Expected Error', 'Simple Plus-Minus',\n",
       "       'Advanced Plus-Minus', 'Mean-Reverted Advanced Plus-Minus',\n",
       "       '# of Polls for Bias Analysis', 'Bias', 'House Effect',\n",
       "       'Average Distance from Polling Average (ADPA)', 'Herding Penalty'],\n",
       "      dtype='object')"
      ]
     },
     "execution_count": 3,
     "metadata": {},
     "output_type": "execute_result"
    }
   ],
   "source": [
    "df.columns"
   ]
  },
  {
   "cell_type": "code",
   "execution_count": 4,
   "metadata": {},
   "outputs": [
    {
     "data": {
      "image/png": "[encoded data removed]",
      "text/plain": [
       "<Figure size 640x480 with 1 Axes>"
      ]
     },
     "metadata": {},
     "output_type": "display_data"
    }
   ],
   "source": [
    "sns.boxplot(df, x = 'Bias', y = 'Banned by 538');"
   ]
  },
  {
   "cell_type": "code",
   "execution_count": 5,
   "metadata": {},
   "outputs": [
    {
     "data": {
      "image/png": "[encoded data removed]",
      "text/plain": [
       "<Figure size 640x480 with 1 Axes>"
      ]
     },
     "metadata": {},
     "output_type": "display_data"
    }
   ],
   "source": [
    "sns.boxplot(df, x = 'Bias', y = '538 Grade');"
   ]
  },
  {
   "cell_type": "code",
   "execution_count": 138,
   "metadata": {},
   "outputs": [
    {
     "data": {
      "text/plain": [
       "0"
      ]
     },
     "execution_count": 138,
     "metadata": {},
     "output_type": "execute_result"
    }
   ],
   "source": [
    "df['538 Grade'].isna().sum()"
   ]
  },
  {
   "cell_type": "code",
   "execution_count": 6,
   "metadata": {},
   "outputs": [
    {
     "data": {
      "text/plain": [
       "A        8\n",
       "A+       4\n",
       "A-       9\n",
       "A/B     47\n",
       "B       10\n",
       "B+      11\n",
       "B-       9\n",
       "B/C    382\n",
       "C        4\n",
       "C+       2\n",
       "C-       1\n",
       "C/D     19\n",
       "F       11\n",
       "Name: 538 Grade, dtype: int64"
      ]
     },
     "execution_count": 6,
     "metadata": {},
     "output_type": "execute_result"
    }
   ],
   "source": [
    "df['538 Grade'].value_counts()[sorted(df['538 Grade'].unique())] # Vast majority are graded B/C"
   ]
  },
  {
   "cell_type": "code",
   "execution_count": 7,
   "metadata": {},
   "outputs": [
    {
     "data": {
      "text/plain": [
       "no     506\n",
       "yes     11\n",
       "Name: Banned by 538, dtype: int64"
      ]
     },
     "execution_count": 7,
     "metadata": {},
     "output_type": "execute_result"
    }
   ],
   "source": [
    "df['Banned by 538'].value_counts() # barely any are banned"
   ]
  },
  {
   "cell_type": "code",
   "execution_count": 8,
   "metadata": {},
   "outputs": [
    {
     "data": {
      "text/plain": [
       "no     438\n",
       "yes     79\n",
       "Name: AAPOR/Roper, dtype: int64"
      ]
     },
     "execution_count": 8,
     "metadata": {},
     "output_type": "execute_result"
    }
   ],
   "source": [
    "df['AAPOR/Roper'].value_counts()"
   ]
  },
  {
   "cell_type": "code",
   "execution_count": 9,
   "metadata": {},
   "outputs": [
    {
     "data": {
      "image/png": "[encoded data removed]",
      "text/plain": [
       "<Figure size 640x480 with 1 Axes>"
      ]
     },
     "metadata": {},
     "output_type": "display_data"
    }
   ],
   "source": [
    "sns.scatterplot(\n",
    "    data = df,\n",
    "    x = 'Races Called Correctly',\n",
    "    y = 'Bias'\n",
    ");"
   ]
  },
  {
   "cell_type": "code",
   "execution_count": 10,
   "metadata": {},
   "outputs": [
    {
     "data": {
      "image/png": "[encoded data removed]",
      "text/plain": [
       "<Figure size 640x480 with 1 Axes>"
      ]
     },
     "metadata": {},
     "output_type": "display_data"
    }
   ],
   "source": [
    "sns.scatterplot(\n",
    "    data = df,\n",
    "    x = 'Races Called Correctly',\n",
    "    y = 'Average Distance from Polling Average (ADPA)'\n",
    ");"
   ]
  },
  {
   "cell_type": "code",
   "execution_count": 11,
   "metadata": {},
   "outputs": [
    {
     "data": {
      "image/png": "[encoded data removed]",
      "text/plain": [
       "<Figure size 640x480 with 1 Axes>"
      ]
     },
     "metadata": {},
     "output_type": "display_data"
    }
   ],
   "source": [
    "sns.scatterplot(\n",
    "    data = df,\n",
    "    x = '# of Polls for Bias Analysis',\n",
    "    y = 'Average Distance from Polling Average (ADPA)'\n",
    ");"
   ]
  },
  {
   "cell_type": "code",
   "execution_count": 12,
   "metadata": {},
   "outputs": [
    {
     "data": {
      "image/png": "[encoded data removed]",
      "text/plain": [
       "<Figure size 640x480 with 1 Axes>"
      ]
     },
     "metadata": {},
     "output_type": "display_data"
    }
   ],
   "source": [
    "sns.scatterplot(\n",
    "    data = df,\n",
    "    x = '# of Polls for Bias Analysis',\n",
    "    y = 'Bias'\n",
    ");"
   ]
  },
  {
   "cell_type": "code",
   "execution_count": 13,
   "metadata": {},
   "outputs": [
    {
     "data": {
      "image/png": "[encoded data removed]",
      "text/plain": [
       "<Figure size 640x480 with 1 Axes>"
      ]
     },
     "metadata": {},
     "output_type": "display_data"
    }
   ],
   "source": [
    "sns.histplot(\n",
    "    data = df,\n",
    "    x = '# of Polls for Bias Analysis'\n",
    ");"
   ]
  },
  {
   "cell_type": "code",
   "execution_count": 14,
   "metadata": {},
   "outputs": [
    {
     "data": {
      "image/png": "[encoded data removed]",
      "text/plain": [
       "<Figure size 640x480 with 1 Axes>"
      ]
     },
     "metadata": {},
     "output_type": "display_data"
    }
   ],
   "source": [
    "sns.histplot(\n",
    "    data = df[df['# of Polls for Bias Analysis'] >= 10],\n",
    "    x = '# of Polls for Bias Analysis'\n",
    ");"
   ]
  },
  {
   "cell_type": "code",
   "execution_count": 15,
   "metadata": {},
   "outputs": [
    {
     "data": {
      "image/png": "[encoded data removed]",
      "text/plain": [
       "<Figure size 640x480 with 1 Axes>"
      ]
     },
     "metadata": {},
     "output_type": "display_data"
    }
   ],
   "source": [
    "sns.scatterplot(\n",
    "    data = df,\n",
    "    x = 'Predictive Plus-Minus',\n",
    "    y = 'Bias',\n",
    "    hue = 'AAPOR/Roper'\n",
    ");"
   ]
  },
  {
   "cell_type": "code",
   "execution_count": 16,
   "metadata": {},
   "outputs": [
    {
     "data": {
      "text/html": [
       "<div>\n",
       "<style scoped>\n",
       "    .dataframe tbody tr th:only-of-type {\n",
       "        vertical-align: middle;\n",
       "    }\n",
       "\n",
       "    .dataframe tbody tr th {\n",
       "        vertical-align: top;\n",
       "    }\n",
       "\n",
       "    .dataframe thead th {\n",
       "        text-align: right;\n",
       "    }\n",
       "</style>\n",
       "<table border=\"1\" class=\"dataframe\">\n",
       "  <thead>\n",
       "    <tr style=\"text-align: right;\">\n",
       "      <th></th>\n",
       "      <th>count</th>\n",
       "      <th>mean</th>\n",
       "      <th>std</th>\n",
       "      <th>min</th>\n",
       "      <th>25%</th>\n",
       "      <th>50%</th>\n",
       "      <th>75%</th>\n",
       "      <th>max</th>\n",
       "    </tr>\n",
       "    <tr>\n",
       "      <th>AAPOR/Roper</th>\n",
       "      <th></th>\n",
       "      <th></th>\n",
       "      <th></th>\n",
       "      <th></th>\n",
       "      <th></th>\n",
       "      <th></th>\n",
       "      <th></th>\n",
       "      <th></th>\n",
       "    </tr>\n",
       "  </thead>\n",
       "  <tbody>\n",
       "    <tr>\n",
       "      <th>no</th>\n",
       "      <td>438.0</td>\n",
       "      <td>0.764582</td>\n",
       "      <td>0.296165</td>\n",
       "      <td>0.0</td>\n",
       "      <td>0.666667</td>\n",
       "      <td>0.863701</td>\n",
       "      <td>1.000000</td>\n",
       "      <td>1.0</td>\n",
       "    </tr>\n",
       "    <tr>\n",
       "      <th>yes</th>\n",
       "      <td>79.0</td>\n",
       "      <td>0.791234</td>\n",
       "      <td>0.203867</td>\n",
       "      <td>0.0</td>\n",
       "      <td>0.724877</td>\n",
       "      <td>0.819820</td>\n",
       "      <td>0.940476</td>\n",
       "      <td>1.0</td>\n",
       "    </tr>\n",
       "  </tbody>\n",
       "</table>\n",
       "</div>"
      ],
      "text/plain": [
       "             count      mean       std  min       25%       50%       75%  max\n",
       "AAPOR/Roper                                                                   \n",
       "no           438.0  0.764582  0.296165  0.0  0.666667  0.863701  1.000000  1.0\n",
       "yes           79.0  0.791234  0.203867  0.0  0.724877  0.819820  0.940476  1.0"
      ]
     },
     "execution_count": 16,
     "metadata": {},
     "output_type": "execute_result"
    }
   ],
   "source": [
    "df.groupby('AAPOR/Roper')['Races Called Correctly'].describe()"
   ]
  },
  {
   "cell_type": "code",
   "execution_count": 17,
   "metadata": {},
   "outputs": [
    {
     "data": {
      "text/html": [
       "<div>\n",
       "<style scoped>\n",
       "    .dataframe tbody tr th:only-of-type {\n",
       "        vertical-align: middle;\n",
       "    }\n",
       "\n",
       "    .dataframe tbody tr th {\n",
       "        vertical-align: top;\n",
       "    }\n",
       "\n",
       "    .dataframe thead th {\n",
       "        text-align: right;\n",
       "    }\n",
       "</style>\n",
       "<table border=\"1\" class=\"dataframe\">\n",
       "  <thead>\n",
       "    <tr style=\"text-align: right;\">\n",
       "      <th></th>\n",
       "      <th>poll_id</th>\n",
       "      <th>question_id</th>\n",
       "      <th>race_id</th>\n",
       "      <th>year</th>\n",
       "      <th>race</th>\n",
       "      <th>location</th>\n",
       "      <th>type_simple</th>\n",
       "      <th>type_detail</th>\n",
       "      <th>pollster</th>\n",
       "      <th>pollster_rating_id</th>\n",
       "      <th>...</th>\n",
       "      <th>margin_poll</th>\n",
       "      <th>electiondate</th>\n",
       "      <th>cand1_actual</th>\n",
       "      <th>cand2_actual</th>\n",
       "      <th>margin_actual</th>\n",
       "      <th>error</th>\n",
       "      <th>bias</th>\n",
       "      <th>rightcall</th>\n",
       "      <th>advancedplusminus</th>\n",
       "      <th>comment</th>\n",
       "    </tr>\n",
       "  </thead>\n",
       "  <tbody>\n",
       "    <tr>\n",
       "      <th>0</th>\n",
       "      <td>26013</td>\n",
       "      <td>87909</td>\n",
       "      <td>1455</td>\n",
       "      <td>1998</td>\n",
       "      <td>1998_Gov-G_NY</td>\n",
       "      <td>NY</td>\n",
       "      <td>Gov-G</td>\n",
       "      <td>Gov-G</td>\n",
       "      <td>Blum &amp; Weprin Associates</td>\n",
       "      <td>32</td>\n",
       "      <td>...</td>\n",
       "      <td>-31.0</td>\n",
       "      <td>11/3/1998</td>\n",
       "      <td>33.16</td>\n",
       "      <td>54.32</td>\n",
       "      <td>-21.15</td>\n",
       "      <td>9.85</td>\n",
       "      <td>-9.85</td>\n",
       "      <td>1.0</td>\n",
       "      <td>1.461561</td>\n",
       "      <td>for New York Daily News | WABC-TV (New York)</td>\n",
       "    </tr>\n",
       "    <tr>\n",
       "      <th>1</th>\n",
       "      <td>26255</td>\n",
       "      <td>87926</td>\n",
       "      <td>1456</td>\n",
       "      <td>1998</td>\n",
       "      <td>1998_Gov-G_OH</td>\n",
       "      <td>OH</td>\n",
       "      <td>Gov-G</td>\n",
       "      <td>Gov-G</td>\n",
       "      <td>University of Cincinnati (Ohio Poll)</td>\n",
       "      <td>346</td>\n",
       "      <td>...</td>\n",
       "      <td>-15.0</td>\n",
       "      <td>11/3/1998</td>\n",
       "      <td>44.69</td>\n",
       "      <td>50.05</td>\n",
       "      <td>-5.36</td>\n",
       "      <td>9.64</td>\n",
       "      <td>-9.64</td>\n",
       "      <td>1.0</td>\n",
       "      <td>4.285789</td>\n",
       "      <td>NaN</td>\n",
       "    </tr>\n",
       "    <tr>\n",
       "      <th>2</th>\n",
       "      <td>26026</td>\n",
       "      <td>31266</td>\n",
       "      <td>1736</td>\n",
       "      <td>1998</td>\n",
       "      <td>1998_Sen-G_NV</td>\n",
       "      <td>NV</td>\n",
       "      <td>Sen-G</td>\n",
       "      <td>Sen-G</td>\n",
       "      <td>FM3 Research</td>\n",
       "      <td>91</td>\n",
       "      <td>...</td>\n",
       "      <td>5.0</td>\n",
       "      <td>11/3/1998</td>\n",
       "      <td>47.86</td>\n",
       "      <td>47.77</td>\n",
       "      <td>0.09</td>\n",
       "      <td>4.91</td>\n",
       "      <td>4.91</td>\n",
       "      <td>1.0</td>\n",
       "      <td>-1.023784</td>\n",
       "      <td>for unspecified Democratic sponsor</td>\n",
       "    </tr>\n",
       "    <tr>\n",
       "      <th>3</th>\n",
       "      <td>26013</td>\n",
       "      <td>31253</td>\n",
       "      <td>1738</td>\n",
       "      <td>1998</td>\n",
       "      <td>1998_Sen-G_NY</td>\n",
       "      <td>NY</td>\n",
       "      <td>Sen-G</td>\n",
       "      <td>Sen-G</td>\n",
       "      <td>Blum &amp; Weprin Associates</td>\n",
       "      <td>32</td>\n",
       "      <td>...</td>\n",
       "      <td>-8.0</td>\n",
       "      <td>11/3/1998</td>\n",
       "      <td>54.62</td>\n",
       "      <td>44.08</td>\n",
       "      <td>10.54</td>\n",
       "      <td>18.54</td>\n",
       "      <td>-18.54</td>\n",
       "      <td>0.0</td>\n",
       "      <td>10.064104</td>\n",
       "      <td>for New York Daily News | WABC-TV (New York)</td>\n",
       "    </tr>\n",
       "    <tr>\n",
       "      <th>4</th>\n",
       "      <td>63632</td>\n",
       "      <td>117103</td>\n",
       "      <td>1738</td>\n",
       "      <td>1998</td>\n",
       "      <td>1998_Sen-G_NY</td>\n",
       "      <td>NY</td>\n",
       "      <td>Sen-G</td>\n",
       "      <td>Sen-G</td>\n",
       "      <td>Garin-Hart-Yang Research Group</td>\n",
       "      <td>113</td>\n",
       "      <td>...</td>\n",
       "      <td>4.0</td>\n",
       "      <td>11/3/1998</td>\n",
       "      <td>54.62</td>\n",
       "      <td>44.08</td>\n",
       "      <td>10.54</td>\n",
       "      <td>6.54</td>\n",
       "      <td>-6.54</td>\n",
       "      <td>1.0</td>\n",
       "      <td>-1.972391</td>\n",
       "      <td>for Charles E. Schumer</td>\n",
       "    </tr>\n",
       "  </tbody>\n",
       "</table>\n",
       "<p>5 rows × 33 columns</p>\n",
       "</div>"
      ],
      "text/plain": [
       "   poll_id  question_id  race_id  year           race location type_simple  \\\n",
       "0    26013        87909     1455  1998  1998_Gov-G_NY       NY       Gov-G   \n",
       "1    26255        87926     1456  1998  1998_Gov-G_OH       OH       Gov-G   \n",
       "2    26026        31266     1736  1998  1998_Sen-G_NV       NV       Sen-G   \n",
       "3    26013        31253     1738  1998  1998_Sen-G_NY       NY       Sen-G   \n",
       "4    63632       117103     1738  1998  1998_Sen-G_NY       NY       Sen-G   \n",
       "\n",
       "  type_detail                              pollster  pollster_rating_id  ...  \\\n",
       "0       Gov-G              Blum & Weprin Associates                  32  ...   \n",
       "1       Gov-G  University of Cincinnati (Ohio Poll)                 346  ...   \n",
       "2       Sen-G                          FM3 Research                  91  ...   \n",
       "3       Sen-G              Blum & Weprin Associates                  32  ...   \n",
       "4       Sen-G        Garin-Hart-Yang Research Group                 113  ...   \n",
       "\n",
       "  margin_poll electiondate cand1_actual  cand2_actual margin_actual  error  \\\n",
       "0       -31.0    11/3/1998        33.16         54.32        -21.15   9.85   \n",
       "1       -15.0    11/3/1998        44.69         50.05         -5.36   9.64   \n",
       "2         5.0    11/3/1998        47.86         47.77          0.09   4.91   \n",
       "3        -8.0    11/3/1998        54.62         44.08         10.54  18.54   \n",
       "4         4.0    11/3/1998        54.62         44.08         10.54   6.54   \n",
       "\n",
       "    bias  rightcall advancedplusminus  \\\n",
       "0  -9.85        1.0          1.461561   \n",
       "1  -9.64        1.0          4.285789   \n",
       "2   4.91        1.0         -1.023784   \n",
       "3 -18.54        0.0         10.064104   \n",
       "4  -6.54        1.0         -1.972391   \n",
       "\n",
       "                                        comment  \n",
       "0  for New York Daily News | WABC-TV (New York)  \n",
       "1                                           NaN  \n",
       "2            for unspecified Democratic sponsor  \n",
       "3  for New York Daily News | WABC-TV (New York)  \n",
       "4                        for Charles E. Schumer  \n",
       "\n",
       "[5 rows x 33 columns]"
      ]
     },
     "execution_count": 17,
     "metadata": {},
     "output_type": "execute_result"
    }
   ],
   "source": [
    "polls = pd.read_csv('../data/raw-polls.csv')\n",
    "\n",
    "polls.head()"
   ]
  },
  {
   "cell_type": "code",
   "execution_count": 18,
   "metadata": {},
   "outputs": [
    {
     "data": {
      "text/plain": [
       "(10776, 33)"
      ]
     },
     "execution_count": 18,
     "metadata": {},
     "output_type": "execute_result"
    }
   ],
   "source": [
    "polls.shape"
   ]
  },
  {
   "cell_type": "code",
   "execution_count": 19,
   "metadata": {},
   "outputs": [
    {
     "data": {
      "text/plain": [
       "poll_id                  0\n",
       "question_id              0\n",
       "race_id                  0\n",
       "year                     0\n",
       "race                     0\n",
       "location                 0\n",
       "type_simple              0\n",
       "type_detail              0\n",
       "pollster                 0\n",
       "pollster_rating_id       0\n",
       "methodology              0\n",
       "partisan              9957\n",
       "polldate                 0\n",
       "samplesize               0\n",
       "cand1_name               0\n",
       "cand1_id                 0\n",
       "cand1_party              0\n",
       "cand1_pct                0\n",
       "cand2_name               0\n",
       "cand2_id                 0\n",
       "cand2_party              0\n",
       "cand2_pct                0\n",
       "cand3_pct             6879\n",
       "margin_poll              0\n",
       "electiondate             0\n",
       "cand1_actual             0\n",
       "cand2_actual             0\n",
       "margin_actual            0\n",
       "error                    0\n",
       "bias                  1952\n",
       "rightcall                0\n",
       "advancedplusminus        0\n",
       "comment               6711\n",
       "dtype: int64"
      ]
     },
     "execution_count": 19,
     "metadata": {},
     "output_type": "execute_result"
    }
   ],
   "source": [
    "polls.isna().sum()"
   ]
  },
  {
   "cell_type": "code",
   "execution_count": 20,
   "metadata": {},
   "outputs": [
    {
     "data": {
      "image/png": "[encoded data removed]",
      "text/plain": [
       "<Figure size 640x480 with 1 Axes>"
      ]
     },
     "metadata": {},
     "output_type": "display_data"
    }
   ],
   "source": [
    "sns.lineplot(polls.groupby('year')['bias'].mean())\n",
    "#sns.lineplot(polls.groupby('year')['margin_poll'].mean())\n",
    "plt.axhline(y = 0)\n",
    "plt.axvline(x = 2016);"
   ]
  },
  {
   "cell_type": "code",
   "execution_count": 21,
   "metadata": {},
   "outputs": [
    {
     "data": {
      "text/html": [
       "<div>\n",
       "<style scoped>\n",
       "    .dataframe tbody tr th:only-of-type {\n",
       "        vertical-align: middle;\n",
       "    }\n",
       "\n",
       "    .dataframe tbody tr th {\n",
       "        vertical-align: top;\n",
       "    }\n",
       "\n",
       "    .dataframe thead th {\n",
       "        text-align: right;\n",
       "    }\n",
       "</style>\n",
       "<table border=\"1\" class=\"dataframe\">\n",
       "  <thead>\n",
       "    <tr style=\"text-align: right;\">\n",
       "      <th></th>\n",
       "      <th></th>\n",
       "      <th>mean</th>\n",
       "      <th>count</th>\n",
       "    </tr>\n",
       "    <tr>\n",
       "      <th>year</th>\n",
       "      <th>type_simple</th>\n",
       "      <th></th>\n",
       "      <th></th>\n",
       "    </tr>\n",
       "  </thead>\n",
       "  <tbody>\n",
       "    <tr>\n",
       "      <th rowspan=\"3\" valign=\"top\">1998</th>\n",
       "      <th>Gov-G</th>\n",
       "      <td>-5.794870</td>\n",
       "      <td>115</td>\n",
       "    </tr>\n",
       "    <tr>\n",
       "      <th>House-G</th>\n",
       "      <td>-1.175439</td>\n",
       "      <td>57</td>\n",
       "    </tr>\n",
       "    <tr>\n",
       "      <th>Sen-G</th>\n",
       "      <td>-4.204706</td>\n",
       "      <td>102</td>\n",
       "    </tr>\n",
       "    <tr>\n",
       "      <th>1999</th>\n",
       "      <th>Gov-G</th>\n",
       "      <td>-4.292500</td>\n",
       "      <td>4</td>\n",
       "    </tr>\n",
       "    <tr>\n",
       "      <th>2000</th>\n",
       "      <th>Gov-G</th>\n",
       "      <td>-0.364419</td>\n",
       "      <td>43</td>\n",
       "    </tr>\n",
       "    <tr>\n",
       "      <th>...</th>\n",
       "      <th>...</th>\n",
       "      <td>...</td>\n",
       "      <td>...</td>\n",
       "    </tr>\n",
       "    <tr>\n",
       "      <th rowspan=\"5\" valign=\"top\">2020</th>\n",
       "      <th>Gov-G</th>\n",
       "      <td>7.233421</td>\n",
       "      <td>38</td>\n",
       "    </tr>\n",
       "    <tr>\n",
       "      <th>House-G</th>\n",
       "      <td>6.372800</td>\n",
       "      <td>100</td>\n",
       "    </tr>\n",
       "    <tr>\n",
       "      <th>Pres-G</th>\n",
       "      <td>4.077831</td>\n",
       "      <td>590</td>\n",
       "    </tr>\n",
       "    <tr>\n",
       "      <th>Pres-P</th>\n",
       "      <td>NaN</td>\n",
       "      <td>0</td>\n",
       "    </tr>\n",
       "    <tr>\n",
       "      <th>Sen-G</th>\n",
       "      <td>4.836454</td>\n",
       "      <td>282</td>\n",
       "    </tr>\n",
       "  </tbody>\n",
       "</table>\n",
       "<p>68 rows × 2 columns</p>\n",
       "</div>"
      ],
      "text/plain": [
       "                      mean  count\n",
       "year type_simple                 \n",
       "1998 Gov-G       -5.794870    115\n",
       "     House-G     -1.175439     57\n",
       "     Sen-G       -4.204706    102\n",
       "1999 Gov-G       -4.292500      4\n",
       "2000 Gov-G       -0.364419     43\n",
       "...                    ...    ...\n",
       "2020 Gov-G        7.233421     38\n",
       "     House-G      6.372800    100\n",
       "     Pres-G       4.077831    590\n",
       "     Pres-P            NaN      0\n",
       "     Sen-G        4.836454    282\n",
       "\n",
       "[68 rows x 2 columns]"
      ]
     },
     "execution_count": 21,
     "metadata": {},
     "output_type": "execute_result"
    }
   ],
   "source": [
    "polls.groupby(['year', 'type_simple'])['bias'].agg(['mean', 'count'])"
   ]
  },
  {
   "cell_type": "code",
   "execution_count": 22,
   "metadata": {},
   "outputs": [
    {
     "data": {
      "text/plain": [
       "Pres-G     2940\n",
       "Sen-G      2651\n",
       "Pres-P     1821\n",
       "Gov-G      1712\n",
       "House-G    1652\n",
       "Name: type_simple, dtype: int64"
      ]
     },
     "execution_count": 22,
     "metadata": {},
     "output_type": "execute_result"
    }
   ],
   "source": [
    "polls['type_simple'].value_counts()"
   ]
  },
  {
   "cell_type": "code",
   "execution_count": 23,
   "metadata": {},
   "outputs": [
    {
     "data": {
      "text/plain": [
       "D      451\n",
       "R      367\n",
       "IND      1\n",
       "Name: partisan, dtype: int64"
      ]
     },
     "execution_count": 23,
     "metadata": {},
     "output_type": "execute_result"
    }
   ],
   "source": [
    "polls['partisan'].value_counts()"
   ]
  },
  {
   "cell_type": "code",
   "execution_count": 24,
   "metadata": {},
   "outputs": [
    {
     "data": {
      "image/png": "[encoded data removed]",
      "text/plain": [
       "<Figure size 640x480 with 1 Axes>"
      ]
     },
     "metadata": {},
     "output_type": "display_data"
    }
   ],
   "source": [
    "sns.lineplot(polls[polls['type_simple'] == 'Gov-G'].groupby('year')['bias'].mean())\n",
    "plt.axhline(y = 0)\n",
    "plt.axvline(x = 2016); # Governor races"
   ]
  },
  {
   "cell_type": "code",
   "execution_count": 25,
   "metadata": {},
   "outputs": [
    {
     "data": {
      "image/png": "[encoded data removed]",
      "text/plain": [
       "<Figure size 640x480 with 1 Axes>"
      ]
     },
     "metadata": {},
     "output_type": "display_data"
    }
   ],
   "source": [
    "sns.lineplot(polls[polls['type_simple'] == 'Sen-G'].groupby('year')['bias'].mean())\n",
    "plt.axhline(y = 0)\n",
    "plt.axvline(x = 2016);"
   ]
  },
  {
   "cell_type": "code",
   "execution_count": 26,
   "metadata": {},
   "outputs": [
    {
     "data": {
      "image/png": "[encoded data removed]",
      "text/plain": [
       "<Figure size 640x480 with 1 Axes>"
      ]
     },
     "metadata": {},
     "output_type": "display_data"
    }
   ],
   "source": [
    "sns.lineplot(polls[polls['type_simple'] == 'House-G'].groupby('year')['bias'].mean())\n",
    "plt.axhline(y = 0)\n",
    "plt.axvline(x = 2016);"
   ]
  },
  {
   "cell_type": "code",
   "execution_count": 27,
   "metadata": {},
   "outputs": [
    {
     "data": {
      "image/png": "[encoded data removed]",
      "text/plain": [
       "<Figure size 640x480 with 1 Axes>"
      ]
     },
     "metadata": {},
     "output_type": "display_data"
    }
   ],
   "source": [
    "sns.lineplot(polls[polls['type_simple'] == 'Pres-G'].groupby('year')['bias'].mean())\n",
    "plt.axhline(y = 0)\n",
    "plt.axvline(x = 2016); "
   ]
  },
  {
   "cell_type": "code",
   "execution_count": 28,
   "metadata": {},
   "outputs": [
    {
     "data": {
      "text/plain": [
       "year\n",
       "2000    0\n",
       "2004    0\n",
       "2008    0\n",
       "2012    0\n",
       "2016    0\n",
       "2020    0\n",
       "Name: bias, dtype: int64"
      ]
     },
     "execution_count": 28,
     "metadata": {},
     "output_type": "execute_result"
    }
   ],
   "source": [
    "polls[polls['type_simple'] == 'Pres-P'].groupby('year')['bias'].count()"
   ]
  },
  {
   "cell_type": "code",
   "execution_count": 29,
   "metadata": {},
   "outputs": [
    {
     "data": {
      "image/png": "[encoded data removed]",
      "text/plain": [
       "<Figure size 640x480 with 1 Axes>"
      ]
     },
     "metadata": {},
     "output_type": "display_data"
    }
   ],
   "source": [
    "sns.lineplot(polls[polls['type_simple'] == 'Pres-P'].groupby('year')['bias'].mean())\n",
    "#plt.axhline(y = 0)\n",
    "plt.axvline(x = 2016); # All of this is missing for some reason"
   ]
  },
  {
   "cell_type": "code",
   "execution_count": 30,
   "metadata": {},
   "outputs": [
    {
     "data": {
      "text/plain": [
       "0.996844840386043"
      ]
     },
     "execution_count": 30,
     "metadata": {},
     "output_type": "execute_result"
    }
   ],
   "source": [
    "np.mean(polls['electiondate'].str.split('/').apply(lambda x: x[2]).astype(int) == polls['year']) # 0.04% of the years are different from election date"
   ]
  },
  {
   "cell_type": "code",
   "execution_count": 31,
   "metadata": {},
   "outputs": [
    {
     "data": {
      "image/png": "[encoded data removed]",
      "text/plain": [
       "<Figure size 640x480 with 1 Axes>"
      ]
     },
     "metadata": {},
     "output_type": "display_data"
    }
   ],
   "source": [
    "sns.lineplot(polls.groupby('year')['error'].mean())\n",
    "plt.axhline(y = np.mean(polls['error']))\n",
    "plt.axhline(y = 0)\n",
    "plt.axvline(x = 2016);"
   ]
  },
  {
   "cell_type": "code",
   "execution_count": 32,
   "metadata": {},
   "outputs": [
    {
     "data": {
      "image/png": "[encoded data removed]",
      "text/plain": [
       "<Figure size 640x480 with 1 Axes>"
      ]
     },
     "metadata": {},
     "output_type": "display_data"
    }
   ],
   "source": [
    "sns.scatterplot(x = polls['samplesize'], y = polls['error']);"
   ]
  },
  {
   "cell_type": "code",
   "execution_count": 33,
   "metadata": {},
   "outputs": [
    {
     "data": {
      "text/plain": [
       "True"
      ]
     },
     "execution_count": 33,
     "metadata": {},
     "output_type": "execute_result"
    }
   ],
   "source": [
    "polls['question_id'].value_counts().shape[0] == polls.shape[0]"
   ]
  },
  {
   "cell_type": "code",
   "execution_count": 34,
   "metadata": {},
   "outputs": [
    {
     "data": {
      "text/plain": [
       "30618    7\n",
       "32714    7\n",
       "56778    6\n",
       "34091    6\n",
       "55068    6\n",
       "        ..\n",
       "63852    1\n",
       "53208    1\n",
       "63854    1\n",
       "66294    1\n",
       "51693    1\n",
       "Name: poll_id, Length: 7504, dtype: int64"
      ]
     },
     "execution_count": 34,
     "metadata": {},
     "output_type": "execute_result"
    }
   ],
   "source": [
    "polls['poll_id'].value_counts()"
   ]
  },
  {
   "cell_type": "code",
   "execution_count": 35,
   "metadata": {},
   "outputs": [
    {
     "data": {
      "text/plain": [
       "US      798\n",
       "FL      626\n",
       "NH      433\n",
       "OH      427\n",
       "PA      403\n",
       "       ... \n",
       "MO-7      1\n",
       "MS-2      1\n",
       "NJ-1      1\n",
       "WA-6      1\n",
       "IL-3      1\n",
       "Name: location, Length: 331, dtype: int64"
      ]
     },
     "execution_count": 35,
     "metadata": {},
     "output_type": "execute_result"
    }
   ],
   "source": [
    "polls['location'].value_counts()"
   ]
  },
  {
   "cell_type": "code",
   "execution_count": 36,
   "metadata": {},
   "outputs": [
    {
     "data": {
      "text/plain": [
       "among registered voters                                                                                                                         True\n",
       "average of multiple versions or turnout models listed in poll                                                                                   True\n",
       "for unspecified Democratic sponsor                                                                                                              True\n",
       "for unspecified Republican sponsor                                                                                                              True\n",
       "sample size unavailable; estimated at 600 as a default                                                                                          True\n",
       "                                                                                                                                               ...  \n",
       "for M. Michael Rounds                                                                                                                          False\n",
       "for Mitch McConnell                                                                                                                            False\n",
       "for Sean S. Eldridge                                                                                                                           False\n",
       "for Bay News 9 | Tampa Bay Times | News 13  | Miami Herald | El Nuevo Herald; average of multiple versions or turnout models listed in poll    False\n",
       "for Cheri Bustos                                                                                                                               False\n",
       "Name: comment, Length: 783, dtype: bool"
      ]
     },
     "execution_count": 36,
     "metadata": {},
     "output_type": "execute_result"
    }
   ],
   "source": [
    "polls['comment'].value_counts()>100 # this is useful just have to get somewhere with it "
   ]
  },
  {
   "cell_type": "code",
   "execution_count": 37,
   "metadata": {},
   "outputs": [],
   "source": [
    "import re"
   ]
  },
  {
   "cell_type": "code",
   "execution_count": 38,
   "metadata": {},
   "outputs": [
    {
     "data": {
      "text/plain": [
       "'for New York Daily News | WABC-TV (New York)'"
      ]
     },
     "execution_count": 38,
     "metadata": {},
     "output_type": "execute_result"
    }
   ],
   "source": [
    "polls['comment'][0]"
   ]
  },
  {
   "cell_type": "code",
   "execution_count": 39,
   "metadata": {},
   "outputs": [
    {
     "data": {
      "text/plain": [
       "0.08556050482553823"
      ]
     },
     "execution_count": 39,
     "metadata": {},
     "output_type": "execute_result"
    }
   ],
   "source": [
    "polls['comment'].str.contains('Times|Post|Herald|Tribune|News|NYT').sum()/polls.shape[0]"
   ]
  },
  {
   "cell_type": "code",
   "execution_count": 40,
   "metadata": {},
   "outputs": [
    {
     "data": {
      "text/plain": [
       "'for New York Daily News | WABC-TV (New York)'"
      ]
     },
     "execution_count": 40,
     "metadata": {},
     "output_type": "execute_result"
    }
   ],
   "source": [
    "polls['comment'][0]"
   ]
  },
  {
   "cell_type": "code",
   "execution_count": 41,
   "metadata": {},
   "outputs": [],
   "source": [
    "import spacy"
   ]
  },
  {
   "cell_type": "code",
   "execution_count": 42,
   "metadata": {},
   "outputs": [],
   "source": [
    "nlp = spacy.load(\"en_core_web_sm\")"
   ]
  },
  {
   "cell_type": "code",
   "execution_count": 43,
   "metadata": {},
   "outputs": [],
   "source": [
    "doc = nlp(polls['comment'][0])"
   ]
  },
  {
   "cell_type": "code",
   "execution_count": 44,
   "metadata": {},
   "outputs": [
    {
     "name": "stdout",
     "output_type": "stream",
     "text": [
      "New York Daily News ORG\n",
      "WABC-TV ORG\n",
      "New York GPE\n"
     ]
    }
   ],
   "source": [
    "for ent in doc.ents:\n",
    "    print(ent.text, ent.label_)"
   ]
  },
  {
   "cell_type": "code",
   "execution_count": 45,
   "metadata": {},
   "outputs": [],
   "source": [
    "def org_flag(list):\n",
    "    for tup in list:\n",
    "        if tup[0] == 'ORG':\n",
    "            return 1\n",
    "    return 0\n",
    "\n",
    "def org_finder(text):\n",
    "    text = re.sub(r'(\\d+)', '', text)\n",
    "    doc = nlp(text)\n",
    "\n",
    "    ents = [(ent.label_, ent.text) for ent in doc.ents]\n",
    "\n",
    "    return org_flag(ents)"
   ]
  },
  {
   "cell_type": "code",
   "execution_count": 46,
   "metadata": {},
   "outputs": [],
   "source": [
    "doc = nlp(\"Ron DeSantis is the governor of Florida\")"
   ]
  },
  {
   "cell_type": "code",
   "execution_count": 47,
   "metadata": {},
   "outputs": [],
   "source": [
    "polls['org'] = polls['comment'].apply(lambda x: org_finder(x) if x is not np.nan else 0)"
   ]
  },
  {
   "cell_type": "code",
   "execution_count": 48,
   "metadata": {},
   "outputs": [
    {
     "data": {
      "text/plain": [
       "0    8699\n",
       "1    2077\n",
       "Name: org, dtype: int64"
      ]
     },
     "execution_count": 48,
     "metadata": {},
     "output_type": "execute_result"
    }
   ],
   "source": [
    "polls['org'].value_counts()"
   ]
  },
  {
   "cell_type": "code",
   "execution_count": 49,
   "metadata": {},
   "outputs": [
    {
     "data": {
      "text/plain": [
       "org\n",
       "0    5.520469\n",
       "1    5.484410\n",
       "Name: error, dtype: float64"
      ]
     },
     "execution_count": 49,
     "metadata": {},
     "output_type": "execute_result"
    }
   ],
   "source": [
    "polls.groupby('org')['error'].mean()"
   ]
  },
  {
   "cell_type": "code",
   "execution_count": 50,
   "metadata": {},
   "outputs": [],
   "source": [
    "def person_flag(list):\n",
    "    for tup in list:\n",
    "        if tup[0] == 'PERSON':\n",
    "            return 1\n",
    "    return 0\n",
    "\n",
    "def person_finder(text):\n",
    "    text = re.sub(r'(\\d+)', '', text)\n",
    "    doc = nlp(text)\n",
    "\n",
    "    ents = [(ent.label_, ent.text) for ent in doc.ents]\n",
    "\n",
    "    return person_flag(ents)"
   ]
  },
  {
   "cell_type": "code",
   "execution_count": 51,
   "metadata": {},
   "outputs": [],
   "source": [
    "polls['person'] = polls['comment'].apply(lambda x: person_finder(x) if x is not np.nan else 0)"
   ]
  },
  {
   "cell_type": "code",
   "execution_count": 52,
   "metadata": {},
   "outputs": [
    {
     "data": {
      "text/plain": [
       "0    10369\n",
       "1      407\n",
       "Name: person, dtype: int64"
      ]
     },
     "execution_count": 52,
     "metadata": {},
     "output_type": "execute_result"
    }
   ],
   "source": [
    "polls['person'].value_counts()"
   ]
  },
  {
   "cell_type": "code",
   "execution_count": 53,
   "metadata": {},
   "outputs": [
    {
     "data": {
      "text/plain": [
       "person\n",
       "0    5.476495\n",
       "1    6.456757\n",
       "Name: error, dtype: float64"
      ]
     },
     "execution_count": 53,
     "metadata": {},
     "output_type": "execute_result"
    }
   ],
   "source": [
    "polls.groupby('person')['error'].mean()"
   ]
  },
  {
   "cell_type": "code",
   "execution_count": 54,
   "metadata": {},
   "outputs": [
    {
     "data": {
      "text/plain": [
       "0"
      ]
     },
     "execution_count": 54,
     "metadata": {},
     "output_type": "execute_result"
    }
   ],
   "source": [
    "text = 'for unspecified Democratic sponsor'\n",
    "\n",
    "person_finder(text)"
   ]
  },
  {
   "cell_type": "code",
   "execution_count": 55,
   "metadata": {},
   "outputs": [
    {
     "data": {
      "text/plain": [
       "1"
      ]
     },
     "execution_count": 55,
     "metadata": {},
     "output_type": "execute_result"
    }
   ],
   "source": [
    "org_finder('for Reid | Cook Political Report; sample size unavailable; estimated at 600 as a default')"
   ]
  },
  {
   "cell_type": "code",
   "execution_count": 56,
   "metadata": {},
   "outputs": [
    {
     "data": {
      "text/plain": [
       "'ORG'"
      ]
     },
     "execution_count": 56,
     "metadata": {},
     "output_type": "execute_result"
    }
   ],
   "source": [
    "nlp('Fox Orlando').ents[0].label_"
   ]
  },
  {
   "cell_type": "code",
   "execution_count": 57,
   "metadata": {},
   "outputs": [
    {
     "data": {
      "text/plain": [
       "'for Fox Orlando  adsa '"
      ]
     },
     "execution_count": 57,
     "metadata": {},
     "output_type": "execute_result"
    }
   ],
   "source": [
    "re.sub(r'(\\d+)', '', 'for Fox35 Orlando 123 adsa 111')"
   ]
  },
  {
   "cell_type": "code",
   "execution_count": 58,
   "metadata": {},
   "outputs": [
    {
     "data": {
      "text/plain": [
       "{'factory': 'ner',\n",
       " 'incorrect_spans_key': None,\n",
       " 'model': {'@architectures': 'spacy.TransitionBasedParser.v2',\n",
       "  'state_type': 'ner',\n",
       "  'extra_state_tokens': False,\n",
       "  'hidden_width': 64,\n",
       "  'maxout_pieces': 2,\n",
       "  'use_upper': True,\n",
       "  'nO': None,\n",
       "  'tok2vec': {'@architectures': 'spacy.Tok2Vec.v2',\n",
       "   'embed': {'@architectures': 'spacy.MultiHashEmbed.v2',\n",
       "    'width': 96,\n",
       "    'attrs': ['NORM', 'PREFIX', 'SUFFIX', 'SHAPE'],\n",
       "    'rows': [5000, 1000, 2500, 2500],\n",
       "    'include_static_vectors': False},\n",
       "   'encode': {'@architectures': 'spacy.MaxoutWindowEncoder.v2',\n",
       "    'width': 96,\n",
       "    'depth': 4,\n",
       "    'window_size': 1,\n",
       "    'maxout_pieces': 3}}},\n",
       " 'moves': None,\n",
       " 'scorer': {'@scorers': 'spacy.ner_scorer.v1'},\n",
       " 'update_with_oracle_cut_size': 100}"
      ]
     },
     "execution_count": 58,
     "metadata": {},
     "output_type": "execute_result"
    }
   ],
   "source": [
    "nlp.get_pipe_config('ner')"
   ]
  },
  {
   "cell_type": "code",
   "execution_count": 59,
   "metadata": {},
   "outputs": [
    {
     "data": {
      "text/plain": [
       "['tok2vec', 'tagger', 'parser', 'attribute_ruler', 'lemmatizer', 'ner']"
      ]
     },
     "execution_count": 59,
     "metadata": {},
     "output_type": "execute_result"
    }
   ],
   "source": [
    "nlp.pipe_names"
   ]
  },
  {
   "cell_type": "code",
   "execution_count": 60,
   "metadata": {},
   "outputs": [],
   "source": [
    "biglp = spacy.load('en_core_web_trf')"
   ]
  },
  {
   "cell_type": "code",
   "execution_count": 61,
   "metadata": {},
   "outputs": [],
   "source": [
    "def person_flag(list):\n",
    "    for tup in list:\n",
    "        if tup[0] == 'PERSON':\n",
    "            return 1\n",
    "    return 0\n",
    "\n",
    "def person_finder(text):\n",
    "    text = re.sub(r'(\\d+)', '', text)\n",
    "    doc = biglp(text)\n",
    "\n",
    "    ents = [(ent.label_, ent.text) for ent in doc.ents]\n",
    "\n",
    "    return person_flag(ents)"
   ]
  },
  {
   "cell_type": "code",
   "execution_count": 62,
   "metadata": {},
   "outputs": [],
   "source": [
    "#(polls['comment'].apply(lambda x: person_finder(x) if x is not np.nan else 0) == polls['person']).mean()"
   ]
  },
  {
   "cell_type": "code",
   "execution_count": 63,
   "metadata": {},
   "outputs": [],
   "source": [
    "def org_flag(list):\n",
    "    for tup in list:\n",
    "        if tup[0] == 'ORG':\n",
    "            return 1\n",
    "    return 0\n",
    "\n",
    "def org_finder(text):\n",
    "    text = re.sub(r'(\\d+)', '', text)\n",
    "    doc = biglp(text)\n",
    "\n",
    "    ents = [(ent.label_, ent.text) for ent in doc.ents]\n",
    "\n",
    "    return org_flag(ents)"
   ]
  },
  {
   "cell_type": "code",
   "execution_count": 64,
   "metadata": {},
   "outputs": [],
   "source": [
    "#(polls['comment'].apply(lambda x: org_finder(x) if x is not np.nan else 0) == polls['org']).mean()"
   ]
  },
  {
   "cell_type": "code",
   "execution_count": 65,
   "metadata": {},
   "outputs": [],
   "source": [
    "polls['state'] = polls['location'].apply(lambda x: x.split('-')[0])"
   ]
  },
  {
   "cell_type": "code",
   "execution_count": 130,
   "metadata": {},
   "outputs": [
    {
     "data": {
      "text/plain": [
       "array(['NY', 'OH', 'NV', 'ID', 'US', 'AZ', 'IL', 'IA', 'NE', 'WI', 'MT',\n",
       "       'GA', 'NC', 'CO', 'CT', 'MD', 'CA', 'FL', 'MN', 'NH', 'IN', 'HI',\n",
       "       'NM', 'RI', 'KY', 'OK', 'ND', 'WA', 'MA', 'MI', 'PA', 'TX', 'SD',\n",
       "       'UT', 'AL', 'KS', 'AR', 'MS', 'MO', 'SC', 'ME', 'OR', 'LA', 'VA',\n",
       "       'VT', 'WV', 'NJ', 'TN', 'DE', 'AK', 'WY', 'M1', 'M2', 'DC', 'PR',\n",
       "       'N2'], dtype=object)"
      ]
     },
     "execution_count": 130,
     "metadata": {},
     "output_type": "execute_result"
    }
   ],
   "source": [
    "polls['location'].apply(lambda x: x.split('-')[0]).unique()"
   ]
  },
  {
   "cell_type": "code",
   "execution_count": 67,
   "metadata": {},
   "outputs": [
    {
     "data": {
      "text/plain": [
       "array(['NY', 'OH', 'NV', 'ID', 'US', 'AZ', 'IL', 'IA', 'NE', 'WI', 'MT',\n",
       "       'GA', 'NC', 'CO', 'CT', 'MD', 'CA', 'FL', 'MN', 'NH', 'IN', 'HI',\n",
       "       'NM', 'RI', 'KY', 'OK', 'ND', 'WA', 'MA', 'MI', 'PA', 'TX', 'SD',\n",
       "       'UT', 'AL', 'KS', 'AR', 'MS', 'MO', 'SC', 'ME', 'OR', 'LA', 'VA',\n",
       "       'VT', 'WV', 'NJ', 'TN', 'DE', 'AK', 'WY', 'M1', 'M2', 'DC', 'PR',\n",
       "       'N2'], dtype=object)"
      ]
     },
     "execution_count": 67,
     "metadata": {},
     "output_type": "execute_result"
    }
   ],
   "source": [
    "pd.Series([i[:2] if len(i) > 2 else i for i in polls['location']]).unique()"
   ]
  },
  {
   "cell_type": "code",
   "execution_count": 68,
   "metadata": {},
   "outputs": [
    {
     "data": {
      "text/plain": [
       "array(['NY', 'OH', 'NV', 'ID', 'US', 'AZ', 'IL', 'IA', 'NE', 'WI', 'MT',\n",
       "       'GA', 'NC', 'CO', 'CT', 'MD', 'CA', 'FL', 'MN', 'NH', 'IN', 'HI',\n",
       "       'NM', 'RI', 'KY', 'OK', 'ND', 'WA', 'MA', 'MI', 'PA', 'TX', 'SD',\n",
       "       'UT', 'AL', 'KS', 'AR', 'MS', 'MO', 'SC', 'ME', 'OR', 'LA', 'VA',\n",
       "       'VT', 'WV', 'NJ', 'TN', 'DE', 'AK', 'WY', 'M1', 'M2', 'DC', 'PR',\n",
       "       'N2'], dtype=object)"
      ]
     },
     "execution_count": 68,
     "metadata": {},
     "output_type": "execute_result"
    }
   ],
   "source": [
    "polls['state'].unique()"
   ]
  },
  {
   "cell_type": "code",
   "execution_count": 131,
   "metadata": {},
   "outputs": [
    {
     "data": {
      "text/plain": [
       "Pres-G    30\n",
       "Sen-G     29\n",
       "Gov-G     25\n",
       "Pres-P     5\n",
       "Name: type_simple, dtype: int64"
      ]
     },
     "execution_count": 131,
     "metadata": {},
     "output_type": "execute_result"
    }
   ],
   "source": [
    "polls[polls['location'] == 'ME']['type_simple'].value_counts()"
   ]
  },
  {
   "cell_type": "code",
   "execution_count": 69,
   "metadata": {},
   "outputs": [
    {
     "data": {
      "text/html": [
       "<div>\n",
       "<style scoped>\n",
       "    .dataframe tbody tr th:only-of-type {\n",
       "        vertical-align: middle;\n",
       "    }\n",
       "\n",
       "    .dataframe tbody tr th {\n",
       "        vertical-align: top;\n",
       "    }\n",
       "\n",
       "    .dataframe thead th {\n",
       "        text-align: right;\n",
       "    }\n",
       "</style>\n",
       "<table border=\"1\" class=\"dataframe\">\n",
       "  <thead>\n",
       "    <tr style=\"text-align: right;\">\n",
       "      <th></th>\n",
       "      <th>poll_id</th>\n",
       "      <th>question_id</th>\n",
       "      <th>race_id</th>\n",
       "      <th>year</th>\n",
       "      <th>race</th>\n",
       "      <th>location</th>\n",
       "      <th>type_simple</th>\n",
       "      <th>type_detail</th>\n",
       "      <th>pollster</th>\n",
       "      <th>pollster_rating_id</th>\n",
       "      <th>...</th>\n",
       "      <th>cand2_actual</th>\n",
       "      <th>margin_actual</th>\n",
       "      <th>error</th>\n",
       "      <th>bias</th>\n",
       "      <th>rightcall</th>\n",
       "      <th>advancedplusminus</th>\n",
       "      <th>comment</th>\n",
       "      <th>org</th>\n",
       "      <th>person</th>\n",
       "      <th>state</th>\n",
       "    </tr>\n",
       "  </thead>\n",
       "  <tbody>\n",
       "    <tr>\n",
       "      <th>3917</th>\n",
       "      <td>74501</td>\n",
       "      <td>140195</td>\n",
       "      <td>8703</td>\n",
       "      <td>2008</td>\n",
       "      <td>2008_Pres-G_N2</td>\n",
       "      <td>N2</td>\n",
       "      <td>Pres-G</td>\n",
       "      <td>Pres-G</td>\n",
       "      <td>ALG Research</td>\n",
       "      <td>14</td>\n",
       "      <td>...</td>\n",
       "      <td>48.75</td>\n",
       "      <td>1.21</td>\n",
       "      <td>5.21</td>\n",
       "      <td>-5.21</td>\n",
       "      <td>0.0</td>\n",
       "      <td>-2.394493</td>\n",
       "      <td>for Jim Esch</td>\n",
       "      <td>0</td>\n",
       "      <td>1</td>\n",
       "      <td>N2</td>\n",
       "    </tr>\n",
       "    <tr>\n",
       "      <th>6347</th>\n",
       "      <td>30388</td>\n",
       "      <td>36463</td>\n",
       "      <td>8708</td>\n",
       "      <td>2012</td>\n",
       "      <td>2012_Pres-G_N2</td>\n",
       "      <td>N2</td>\n",
       "      <td>Pres-G</td>\n",
       "      <td>Pres-G</td>\n",
       "      <td>Wiese Research Associates</td>\n",
       "      <td>382</td>\n",
       "      <td>...</td>\n",
       "      <td>52.85</td>\n",
       "      <td>-7.16</td>\n",
       "      <td>2.16</td>\n",
       "      <td>2.16</td>\n",
       "      <td>1.0</td>\n",
       "      <td>-5.322739</td>\n",
       "      <td>NaN</td>\n",
       "      <td>0</td>\n",
       "      <td>0</td>\n",
       "      <td>N2</td>\n",
       "    </tr>\n",
       "    <tr>\n",
       "      <th>8181</th>\n",
       "      <td>47788</td>\n",
       "      <td>74808</td>\n",
       "      <td>8713</td>\n",
       "      <td>2016</td>\n",
       "      <td>2016_Pres-G_N2</td>\n",
       "      <td>N2</td>\n",
       "      <td>Pres-G</td>\n",
       "      <td>Pres-G</td>\n",
       "      <td>North Star Opinion Research/Ayres, McHenry &amp; A...</td>\n",
       "      <td>233</td>\n",
       "      <td>...</td>\n",
       "      <td>47.16</td>\n",
       "      <td>-2.24</td>\n",
       "      <td>1.76</td>\n",
       "      <td>-1.76</td>\n",
       "      <td>1.0</td>\n",
       "      <td>-5.622639</td>\n",
       "      <td>for unspecified Republican sponsor; among regi...</td>\n",
       "      <td>0</td>\n",
       "      <td>0</td>\n",
       "      <td>N2</td>\n",
       "    </tr>\n",
       "    <tr>\n",
       "      <th>10631</th>\n",
       "      <td>72410</td>\n",
       "      <td>135867</td>\n",
       "      <td>8718</td>\n",
       "      <td>2020</td>\n",
       "      <td>2020_Pres-G_N2</td>\n",
       "      <td>N2</td>\n",
       "      <td>Pres-G</td>\n",
       "      <td>Pres-G</td>\n",
       "      <td>Emerson College</td>\n",
       "      <td>88</td>\n",
       "      <td>...</td>\n",
       "      <td>45.45</td>\n",
       "      <td>6.50</td>\n",
       "      <td>3.90</td>\n",
       "      <td>-3.90</td>\n",
       "      <td>1.0</td>\n",
       "      <td>0.432107</td>\n",
       "      <td>NaN</td>\n",
       "      <td>0</td>\n",
       "      <td>0</td>\n",
       "      <td>N2</td>\n",
       "    </tr>\n",
       "    <tr>\n",
       "      <th>10699</th>\n",
       "      <td>72757</td>\n",
       "      <td>136537</td>\n",
       "      <td>8718</td>\n",
       "      <td>2020</td>\n",
       "      <td>2020_Pres-G_N2</td>\n",
       "      <td>N2</td>\n",
       "      <td>Pres-G</td>\n",
       "      <td>Pres-G</td>\n",
       "      <td>Change Research</td>\n",
       "      <td>48</td>\n",
       "      <td>...</td>\n",
       "      <td>45.45</td>\n",
       "      <td>6.50</td>\n",
       "      <td>3.50</td>\n",
       "      <td>-3.50</td>\n",
       "      <td>1.0</td>\n",
       "      <td>-0.450888</td>\n",
       "      <td>NaN</td>\n",
       "      <td>0</td>\n",
       "      <td>0</td>\n",
       "      <td>N2</td>\n",
       "    </tr>\n",
       "    <tr>\n",
       "      <th>10736</th>\n",
       "      <td>72754</td>\n",
       "      <td>136533</td>\n",
       "      <td>8718</td>\n",
       "      <td>2020</td>\n",
       "      <td>2020_Pres-G_N2</td>\n",
       "      <td>N2</td>\n",
       "      <td>Pres-G</td>\n",
       "      <td>Pres-G</td>\n",
       "      <td>University of Nevada, Las Vegas Lee Business S...</td>\n",
       "      <td>609</td>\n",
       "      <td>...</td>\n",
       "      <td>45.45</td>\n",
       "      <td>6.50</td>\n",
       "      <td>0.60</td>\n",
       "      <td>-0.60</td>\n",
       "      <td>1.0</td>\n",
       "      <td>-4.877900</td>\n",
       "      <td>NaN</td>\n",
       "      <td>0</td>\n",
       "      <td>0</td>\n",
       "      <td>N2</td>\n",
       "    </tr>\n",
       "  </tbody>\n",
       "</table>\n",
       "<p>6 rows × 36 columns</p>\n",
       "</div>"
      ],
      "text/plain": [
       "       poll_id  question_id  race_id  year            race location  \\\n",
       "3917     74501       140195     8703  2008  2008_Pres-G_N2       N2   \n",
       "6347     30388        36463     8708  2012  2012_Pres-G_N2       N2   \n",
       "8181     47788        74808     8713  2016  2016_Pres-G_N2       N2   \n",
       "10631    72410       135867     8718  2020  2020_Pres-G_N2       N2   \n",
       "10699    72757       136537     8718  2020  2020_Pres-G_N2       N2   \n",
       "10736    72754       136533     8718  2020  2020_Pres-G_N2       N2   \n",
       "\n",
       "      type_simple type_detail  \\\n",
       "3917       Pres-G      Pres-G   \n",
       "6347       Pres-G      Pres-G   \n",
       "8181       Pres-G      Pres-G   \n",
       "10631      Pres-G      Pres-G   \n",
       "10699      Pres-G      Pres-G   \n",
       "10736      Pres-G      Pres-G   \n",
       "\n",
       "                                                pollster  pollster_rating_id  \\\n",
       "3917                                        ALG Research                  14   \n",
       "6347                           Wiese Research Associates                 382   \n",
       "8181   North Star Opinion Research/Ayres, McHenry & A...                 233   \n",
       "10631                                    Emerson College                  88   \n",
       "10699                                    Change Research                  48   \n",
       "10736  University of Nevada, Las Vegas Lee Business S...                 609   \n",
       "\n",
       "       ... cand2_actual margin_actual error  bias rightcall  \\\n",
       "3917   ...        48.75          1.21  5.21 -5.21       0.0   \n",
       "6347   ...        52.85         -7.16  2.16  2.16       1.0   \n",
       "8181   ...        47.16         -2.24  1.76 -1.76       1.0   \n",
       "10631  ...        45.45          6.50  3.90 -3.90       1.0   \n",
       "10699  ...        45.45          6.50  3.50 -3.50       1.0   \n",
       "10736  ...        45.45          6.50  0.60 -0.60       1.0   \n",
       "\n",
       "       advancedplusminus                                            comment  \\\n",
       "3917           -2.394493                                       for Jim Esch   \n",
       "6347           -5.322739                                                NaN   \n",
       "8181           -5.622639  for unspecified Republican sponsor; among regi...   \n",
       "10631           0.432107                                                NaN   \n",
       "10699          -0.450888                                                NaN   \n",
       "10736          -4.877900                                                NaN   \n",
       "\n",
       "       org person  state  \n",
       "3917     0      1     N2  \n",
       "6347     0      0     N2  \n",
       "8181     0      0     N2  \n",
       "10631    0      0     N2  \n",
       "10699    0      0     N2  \n",
       "10736    0      0     N2  \n",
       "\n",
       "[6 rows x 36 columns]"
      ]
     },
     "execution_count": 69,
     "metadata": {},
     "output_type": "execute_result"
    }
   ],
   "source": [
    "polls[polls['state'] == 'N2']"
   ]
  },
  {
   "cell_type": "code",
   "execution_count": 70,
   "metadata": {},
   "outputs": [
    {
     "data": {
      "text/html": [
       "<div>\n",
       "<style scoped>\n",
       "    .dataframe tbody tr th:only-of-type {\n",
       "        vertical-align: middle;\n",
       "    }\n",
       "\n",
       "    .dataframe tbody tr th {\n",
       "        vertical-align: top;\n",
       "    }\n",
       "\n",
       "    .dataframe thead th {\n",
       "        text-align: right;\n",
       "    }\n",
       "</style>\n",
       "<table border=\"1\" class=\"dataframe\">\n",
       "  <thead>\n",
       "    <tr style=\"text-align: right;\">\n",
       "      <th></th>\n",
       "      <th>poll_id</th>\n",
       "      <th>question_id</th>\n",
       "      <th>race_id</th>\n",
       "      <th>year</th>\n",
       "      <th>race</th>\n",
       "      <th>location</th>\n",
       "      <th>type_simple</th>\n",
       "      <th>type_detail</th>\n",
       "      <th>pollster</th>\n",
       "      <th>pollster_rating_id</th>\n",
       "      <th>...</th>\n",
       "      <th>cand2_actual</th>\n",
       "      <th>margin_actual</th>\n",
       "      <th>error</th>\n",
       "      <th>bias</th>\n",
       "      <th>rightcall</th>\n",
       "      <th>advancedplusminus</th>\n",
       "      <th>comment</th>\n",
       "      <th>org</th>\n",
       "      <th>person</th>\n",
       "      <th>state</th>\n",
       "    </tr>\n",
       "  </thead>\n",
       "  <tbody>\n",
       "    <tr>\n",
       "      <th>2006</th>\n",
       "      <td>74499</td>\n",
       "      <td>140193</td>\n",
       "      <td>8700</td>\n",
       "      <td>2004</td>\n",
       "      <td>2004_Pres-G_M1</td>\n",
       "      <td>M1</td>\n",
       "      <td>Pres-G</td>\n",
       "      <td>Pres-G</td>\n",
       "      <td>SurveyUSA</td>\n",
       "      <td>325</td>\n",
       "      <td>...</td>\n",
       "      <td>43.14</td>\n",
       "      <td>11.94</td>\n",
       "      <td>8.94</td>\n",
       "      <td>-8.94</td>\n",
       "      <td>1.0</td>\n",
       "      <td>1.396082</td>\n",
       "      <td>NaN</td>\n",
       "      <td>0</td>\n",
       "      <td>0</td>\n",
       "      <td>M1</td>\n",
       "    </tr>\n",
       "    <tr>\n",
       "      <th>6606</th>\n",
       "      <td>30751</td>\n",
       "      <td>37089</td>\n",
       "      <td>8710</td>\n",
       "      <td>2012</td>\n",
       "      <td>2012_Pres-G_M1</td>\n",
       "      <td>M1</td>\n",
       "      <td>Pres-G</td>\n",
       "      <td>Pres-G</td>\n",
       "      <td>Critical Insights</td>\n",
       "      <td>64</td>\n",
       "      <td>...</td>\n",
       "      <td>38.18</td>\n",
       "      <td>21.39</td>\n",
       "      <td>15.39</td>\n",
       "      <td>-15.39</td>\n",
       "      <td>1.0</td>\n",
       "      <td>10.756007</td>\n",
       "      <td>NaN</td>\n",
       "      <td>0</td>\n",
       "      <td>0</td>\n",
       "      <td>M1</td>\n",
       "    </tr>\n",
       "    <tr>\n",
       "      <th>6781</th>\n",
       "      <td>30803</td>\n",
       "      <td>37165</td>\n",
       "      <td>8710</td>\n",
       "      <td>2012</td>\n",
       "      <td>2012_Pres-G_M1</td>\n",
       "      <td>M1</td>\n",
       "      <td>Pres-G</td>\n",
       "      <td>Pres-G</td>\n",
       "      <td>Maine People's Resource Center</td>\n",
       "      <td>180</td>\n",
       "      <td>...</td>\n",
       "      <td>38.18</td>\n",
       "      <td>21.39</td>\n",
       "      <td>3.69</td>\n",
       "      <td>-3.69</td>\n",
       "      <td>1.0</td>\n",
       "      <td>-2.231295</td>\n",
       "      <td>NaN</td>\n",
       "      <td>0</td>\n",
       "      <td>0</td>\n",
       "      <td>M1</td>\n",
       "    </tr>\n",
       "    <tr>\n",
       "      <th>6782</th>\n",
       "      <td>30622</td>\n",
       "      <td>36824</td>\n",
       "      <td>8710</td>\n",
       "      <td>2012</td>\n",
       "      <td>2012_Pres-G_M1</td>\n",
       "      <td>M1</td>\n",
       "      <td>Pres-G</td>\n",
       "      <td>Pres-G</td>\n",
       "      <td>Public Policy Polling</td>\n",
       "      <td>263</td>\n",
       "      <td>...</td>\n",
       "      <td>38.18</td>\n",
       "      <td>21.39</td>\n",
       "      <td>1.39</td>\n",
       "      <td>-1.39</td>\n",
       "      <td>1.0</td>\n",
       "      <td>-4.390005</td>\n",
       "      <td>NaN</td>\n",
       "      <td>0</td>\n",
       "      <td>0</td>\n",
       "      <td>M1</td>\n",
       "    </tr>\n",
       "    <tr>\n",
       "      <th>8182</th>\n",
       "      <td>47773</td>\n",
       "      <td>74796</td>\n",
       "      <td>8715</td>\n",
       "      <td>2016</td>\n",
       "      <td>2016_Pres-G_M1</td>\n",
       "      <td>M1</td>\n",
       "      <td>Pres-G</td>\n",
       "      <td>Pres-G</td>\n",
       "      <td>University of New Hampshire</td>\n",
       "      <td>357</td>\n",
       "      <td>...</td>\n",
       "      <td>39.15</td>\n",
       "      <td>14.81</td>\n",
       "      <td>5.19</td>\n",
       "      <td>5.19</td>\n",
       "      <td>1.0</td>\n",
       "      <td>-0.544549</td>\n",
       "      <td>for Portland Press Herald | Maine Sunday Telegram</td>\n",
       "      <td>1</td>\n",
       "      <td>0</td>\n",
       "      <td>M1</td>\n",
       "    </tr>\n",
       "    <tr>\n",
       "      <th>8230</th>\n",
       "      <td>47998</td>\n",
       "      <td>75064</td>\n",
       "      <td>8715</td>\n",
       "      <td>2016</td>\n",
       "      <td>2016_Pres-G_M1</td>\n",
       "      <td>M1</td>\n",
       "      <td>Pres-G</td>\n",
       "      <td>Pres-G</td>\n",
       "      <td>Maine People's Resource Center</td>\n",
       "      <td>180</td>\n",
       "      <td>...</td>\n",
       "      <td>39.15</td>\n",
       "      <td>14.81</td>\n",
       "      <td>2.06</td>\n",
       "      <td>-2.06</td>\n",
       "      <td>1.0</td>\n",
       "      <td>-3.923375</td>\n",
       "      <td>average of multiple versions or turnout models...</td>\n",
       "      <td>0</td>\n",
       "      <td>0</td>\n",
       "      <td>M1</td>\n",
       "    </tr>\n",
       "    <tr>\n",
       "      <th>8451</th>\n",
       "      <td>47935</td>\n",
       "      <td>74991</td>\n",
       "      <td>8715</td>\n",
       "      <td>2016</td>\n",
       "      <td>2016_Pres-G_M1</td>\n",
       "      <td>M1</td>\n",
       "      <td>Pres-G</td>\n",
       "      <td>Pres-G</td>\n",
       "      <td>Emerson College</td>\n",
       "      <td>88</td>\n",
       "      <td>...</td>\n",
       "      <td>39.15</td>\n",
       "      <td>14.81</td>\n",
       "      <td>8.51</td>\n",
       "      <td>-8.51</td>\n",
       "      <td>1.0</td>\n",
       "      <td>4.031939</td>\n",
       "      <td>NaN</td>\n",
       "      <td>0</td>\n",
       "      <td>0</td>\n",
       "      <td>M1</td>\n",
       "    </tr>\n",
       "    <tr>\n",
       "      <th>10149</th>\n",
       "      <td>72080</td>\n",
       "      <td>135138</td>\n",
       "      <td>8422</td>\n",
       "      <td>2020</td>\n",
       "      <td>2020_Pres-G_M1</td>\n",
       "      <td>M1</td>\n",
       "      <td>Pres-G</td>\n",
       "      <td>Pres-G</td>\n",
       "      <td>Colby College</td>\n",
       "      <td>593</td>\n",
       "      <td>...</td>\n",
       "      <td>37.02</td>\n",
       "      <td>23.09</td>\n",
       "      <td>1.09</td>\n",
       "      <td>-1.09</td>\n",
       "      <td>1.0</td>\n",
       "      <td>-3.476491</td>\n",
       "      <td>NaN</td>\n",
       "      <td>0</td>\n",
       "      <td>0</td>\n",
       "      <td>M1</td>\n",
       "    </tr>\n",
       "    <tr>\n",
       "      <th>10268</th>\n",
       "      <td>72178</td>\n",
       "      <td>135386</td>\n",
       "      <td>8422</td>\n",
       "      <td>2020</td>\n",
       "      <td>2020_Pres-G_M1</td>\n",
       "      <td>M1</td>\n",
       "      <td>Pres-G</td>\n",
       "      <td>Pres-G</td>\n",
       "      <td>SurveyUSA</td>\n",
       "      <td>325</td>\n",
       "      <td>...</td>\n",
       "      <td>37.02</td>\n",
       "      <td>23.09</td>\n",
       "      <td>4.09</td>\n",
       "      <td>-4.09</td>\n",
       "      <td>1.0</td>\n",
       "      <td>0.704271</td>\n",
       "      <td>for FairVote</td>\n",
       "      <td>0</td>\n",
       "      <td>0</td>\n",
       "      <td>M1</td>\n",
       "    </tr>\n",
       "    <tr>\n",
       "      <th>10629</th>\n",
       "      <td>72512</td>\n",
       "      <td>136076</td>\n",
       "      <td>8422</td>\n",
       "      <td>2020</td>\n",
       "      <td>2020_Pres-G_M1</td>\n",
       "      <td>M1</td>\n",
       "      <td>Pres-G</td>\n",
       "      <td>Pres-G</td>\n",
       "      <td>Emerson College</td>\n",
       "      <td>88</td>\n",
       "      <td>...</td>\n",
       "      <td>37.02</td>\n",
       "      <td>23.09</td>\n",
       "      <td>4.09</td>\n",
       "      <td>-4.09</td>\n",
       "      <td>1.0</td>\n",
       "      <td>0.465248</td>\n",
       "      <td>NaN</td>\n",
       "      <td>0</td>\n",
       "      <td>0</td>\n",
       "      <td>M1</td>\n",
       "    </tr>\n",
       "    <tr>\n",
       "      <th>10697</th>\n",
       "      <td>72803</td>\n",
       "      <td>136606</td>\n",
       "      <td>8422</td>\n",
       "      <td>2020</td>\n",
       "      <td>2020_Pres-G_M1</td>\n",
       "      <td>M1</td>\n",
       "      <td>Pres-G</td>\n",
       "      <td>Pres-G</td>\n",
       "      <td>Change Research</td>\n",
       "      <td>48</td>\n",
       "      <td>...</td>\n",
       "      <td>37.02</td>\n",
       "      <td>23.09</td>\n",
       "      <td>2.09</td>\n",
       "      <td>-2.09</td>\n",
       "      <td>1.0</td>\n",
       "      <td>-1.334799</td>\n",
       "      <td>NaN</td>\n",
       "      <td>0</td>\n",
       "      <td>0</td>\n",
       "      <td>M1</td>\n",
       "    </tr>\n",
       "  </tbody>\n",
       "</table>\n",
       "<p>11 rows × 36 columns</p>\n",
       "</div>"
      ],
      "text/plain": [
       "       poll_id  question_id  race_id  year            race location  \\\n",
       "2006     74499       140193     8700  2004  2004_Pres-G_M1       M1   \n",
       "6606     30751        37089     8710  2012  2012_Pres-G_M1       M1   \n",
       "6781     30803        37165     8710  2012  2012_Pres-G_M1       M1   \n",
       "6782     30622        36824     8710  2012  2012_Pres-G_M1       M1   \n",
       "8182     47773        74796     8715  2016  2016_Pres-G_M1       M1   \n",
       "8230     47998        75064     8715  2016  2016_Pres-G_M1       M1   \n",
       "8451     47935        74991     8715  2016  2016_Pres-G_M1       M1   \n",
       "10149    72080       135138     8422  2020  2020_Pres-G_M1       M1   \n",
       "10268    72178       135386     8422  2020  2020_Pres-G_M1       M1   \n",
       "10629    72512       136076     8422  2020  2020_Pres-G_M1       M1   \n",
       "10697    72803       136606     8422  2020  2020_Pres-G_M1       M1   \n",
       "\n",
       "      type_simple type_detail                        pollster  \\\n",
       "2006       Pres-G      Pres-G                       SurveyUSA   \n",
       "6606       Pres-G      Pres-G               Critical Insights   \n",
       "6781       Pres-G      Pres-G  Maine People's Resource Center   \n",
       "6782       Pres-G      Pres-G           Public Policy Polling   \n",
       "8182       Pres-G      Pres-G     University of New Hampshire   \n",
       "8230       Pres-G      Pres-G  Maine People's Resource Center   \n",
       "8451       Pres-G      Pres-G                 Emerson College   \n",
       "10149      Pres-G      Pres-G                   Colby College   \n",
       "10268      Pres-G      Pres-G                       SurveyUSA   \n",
       "10629      Pres-G      Pres-G                 Emerson College   \n",
       "10697      Pres-G      Pres-G                 Change Research   \n",
       "\n",
       "       pollster_rating_id  ... cand2_actual margin_actual  error   bias  \\\n",
       "2006                  325  ...        43.14         11.94   8.94  -8.94   \n",
       "6606                   64  ...        38.18         21.39  15.39 -15.39   \n",
       "6781                  180  ...        38.18         21.39   3.69  -3.69   \n",
       "6782                  263  ...        38.18         21.39   1.39  -1.39   \n",
       "8182                  357  ...        39.15         14.81   5.19   5.19   \n",
       "8230                  180  ...        39.15         14.81   2.06  -2.06   \n",
       "8451                   88  ...        39.15         14.81   8.51  -8.51   \n",
       "10149                 593  ...        37.02         23.09   1.09  -1.09   \n",
       "10268                 325  ...        37.02         23.09   4.09  -4.09   \n",
       "10629                  88  ...        37.02         23.09   4.09  -4.09   \n",
       "10697                  48  ...        37.02         23.09   2.09  -2.09   \n",
       "\n",
       "      rightcall  advancedplusminus  \\\n",
       "2006        1.0           1.396082   \n",
       "6606        1.0          10.756007   \n",
       "6781        1.0          -2.231295   \n",
       "6782        1.0          -4.390005   \n",
       "8182        1.0          -0.544549   \n",
       "8230        1.0          -3.923375   \n",
       "8451        1.0           4.031939   \n",
       "10149       1.0          -3.476491   \n",
       "10268       1.0           0.704271   \n",
       "10629       1.0           0.465248   \n",
       "10697       1.0          -1.334799   \n",
       "\n",
       "                                                 comment  org person  state  \n",
       "2006                                                 NaN    0      0     M1  \n",
       "6606                                                 NaN    0      0     M1  \n",
       "6781                                                 NaN    0      0     M1  \n",
       "6782                                                 NaN    0      0     M1  \n",
       "8182   for Portland Press Herald | Maine Sunday Telegram    1      0     M1  \n",
       "8230   average of multiple versions or turnout models...    0      0     M1  \n",
       "8451                                                 NaN    0      0     M1  \n",
       "10149                                                NaN    0      0     M1  \n",
       "10268                                       for FairVote    0      0     M1  \n",
       "10629                                                NaN    0      0     M1  \n",
       "10697                                                NaN    0      0     M1  \n",
       "\n",
       "[11 rows x 36 columns]"
      ]
     },
     "execution_count": 70,
     "metadata": {},
     "output_type": "execute_result"
    }
   ],
   "source": [
    "polls[polls['state'] == 'M1']"
   ]
  },
  {
   "cell_type": "code",
   "execution_count": 123,
   "metadata": {},
   "outputs": [
    {
     "data": {
      "text/plain": [
       "poll_id                             72513\n",
       "question_id                        136077\n",
       "race_id                              8423\n",
       "year                                 2020\n",
       "race                       2020_Pres-G_M2\n",
       "location                               M2\n",
       "type_simple                        Pres-G\n",
       "type_detail                        Pres-G\n",
       "pollster                  Emerson College\n",
       "pollster_rating_id                     88\n",
       "methodology               IVR/Online/Text\n",
       "partisan                              NaN\n",
       "polldate                       10/30/2020\n",
       "samplesize                          301.0\n",
       "cand1_name            Joseph R. Biden Jr.\n",
       "cand1_id                            13256\n",
       "cand1_party                           DEM\n",
       "cand1_pct                            49.8\n",
       "cand2_name                   Donald Trump\n",
       "cand2_id                            13254\n",
       "cand2_party                           REP\n",
       "cand2_pct                            46.8\n",
       "cand3_pct                             NaN\n",
       "margin_poll                           3.0\n",
       "electiondate                    11/3/2020\n",
       "cand1_actual                        44.82\n",
       "cand2_actual                        52.26\n",
       "margin_actual                       -7.44\n",
       "error                               10.44\n",
       "bias                                10.44\n",
       "rightcall                             0.0\n",
       "advancedplusminus                3.019603\n",
       "comment                               NaN\n",
       "org                                     0\n",
       "person                                  0\n",
       "state                                  M2\n",
       "Name: 10630, dtype: object"
      ]
     },
     "execution_count": 123,
     "metadata": {},
     "output_type": "execute_result"
    }
   ],
   "source": [
    "polls[polls['state'] == 'M2'].loc[10630]"
   ]
  },
  {
   "cell_type": "code",
   "execution_count": 128,
   "metadata": {},
   "outputs": [
    {
     "data": {
      "text/html": [
       "<div>\n",
       "<style scoped>\n",
       "    .dataframe tbody tr th:only-of-type {\n",
       "        vertical-align: middle;\n",
       "    }\n",
       "\n",
       "    .dataframe tbody tr th {\n",
       "        vertical-align: top;\n",
       "    }\n",
       "\n",
       "    .dataframe thead th {\n",
       "        text-align: right;\n",
       "    }\n",
       "</style>\n",
       "<table border=\"1\" class=\"dataframe\">\n",
       "  <thead>\n",
       "    <tr style=\"text-align: right;\">\n",
       "      <th></th>\n",
       "      <th>location</th>\n",
       "      <th>methodology</th>\n",
       "      <th>polldate</th>\n",
       "    </tr>\n",
       "  </thead>\n",
       "  <tbody>\n",
       "    <tr>\n",
       "      <th>9794</th>\n",
       "      <td>NC</td>\n",
       "      <td>IVR/Online/Text</td>\n",
       "      <td>10/14/2020</td>\n",
       "    </tr>\n",
       "    <tr>\n",
       "      <th>9937</th>\n",
       "      <td>GA</td>\n",
       "      <td>IVR/Online</td>\n",
       "      <td>10/18/2020</td>\n",
       "    </tr>\n",
       "    <tr>\n",
       "      <th>10039</th>\n",
       "      <td>IA</td>\n",
       "      <td>IVR/Online/Text</td>\n",
       "      <td>10/20/2020</td>\n",
       "    </tr>\n",
       "    <tr>\n",
       "      <th>10271</th>\n",
       "      <td>US</td>\n",
       "      <td>IVR/Online</td>\n",
       "      <td>10/26/2020</td>\n",
       "    </tr>\n",
       "    <tr>\n",
       "      <th>10534</th>\n",
       "      <td>AZ</td>\n",
       "      <td>IVR/Online/Text</td>\n",
       "      <td>10/30/2020</td>\n",
       "    </tr>\n",
       "    <tr>\n",
       "      <th>10540</th>\n",
       "      <td>FL</td>\n",
       "      <td>IVR/Online/Text</td>\n",
       "      <td>10/30/2020</td>\n",
       "    </tr>\n",
       "    <tr>\n",
       "      <th>10547</th>\n",
       "      <td>GA</td>\n",
       "      <td>IVR/Online/Text</td>\n",
       "      <td>10/30/2020</td>\n",
       "    </tr>\n",
       "    <tr>\n",
       "      <th>10550</th>\n",
       "      <td>IA</td>\n",
       "      <td>IVR/Online/Text</td>\n",
       "      <td>10/30/2020</td>\n",
       "    </tr>\n",
       "    <tr>\n",
       "      <th>10555</th>\n",
       "      <td>ME</td>\n",
       "      <td>IVR/Online/Text</td>\n",
       "      <td>10/30/2020</td>\n",
       "    </tr>\n",
       "    <tr>\n",
       "      <th>10556</th>\n",
       "      <td>MI</td>\n",
       "      <td>IVR/Online/Text</td>\n",
       "      <td>10/30/2020</td>\n",
       "    </tr>\n",
       "    <tr>\n",
       "      <th>10564</th>\n",
       "      <td>NC</td>\n",
       "      <td>IVR/Online/Text</td>\n",
       "      <td>10/30/2020</td>\n",
       "    </tr>\n",
       "    <tr>\n",
       "      <th>10569</th>\n",
       "      <td>NV</td>\n",
       "      <td>IVR/Online/Text</td>\n",
       "      <td>10/30/2020</td>\n",
       "    </tr>\n",
       "    <tr>\n",
       "      <th>10571</th>\n",
       "      <td>OH</td>\n",
       "      <td>IVR/Online/Text</td>\n",
       "      <td>10/30/2020</td>\n",
       "    </tr>\n",
       "    <tr>\n",
       "      <th>10576</th>\n",
       "      <td>PA</td>\n",
       "      <td>IVR/Online/Text</td>\n",
       "      <td>10/30/2020</td>\n",
       "    </tr>\n",
       "    <tr>\n",
       "      <th>10582</th>\n",
       "      <td>TX</td>\n",
       "      <td>IVR/Online/Text</td>\n",
       "      <td>10/30/2020</td>\n",
       "    </tr>\n",
       "    <tr>\n",
       "      <th>10586</th>\n",
       "      <td>WI</td>\n",
       "      <td>IVR/Online</td>\n",
       "      <td>10/30/2020</td>\n",
       "    </tr>\n",
       "    <tr>\n",
       "      <th>10629</th>\n",
       "      <td>M1</td>\n",
       "      <td>IVR/Online/Text</td>\n",
       "      <td>10/30/2020</td>\n",
       "    </tr>\n",
       "    <tr>\n",
       "      <th>10630</th>\n",
       "      <td>M2</td>\n",
       "      <td>IVR/Online/Text</td>\n",
       "      <td>10/30/2020</td>\n",
       "    </tr>\n",
       "    <tr>\n",
       "      <th>10631</th>\n",
       "      <td>N2</td>\n",
       "      <td>IVR/Online</td>\n",
       "      <td>10/30/2020</td>\n",
       "    </tr>\n",
       "  </tbody>\n",
       "</table>\n",
       "</div>"
      ],
      "text/plain": [
       "      location      methodology    polldate\n",
       "9794        NC  IVR/Online/Text  10/14/2020\n",
       "9937        GA       IVR/Online  10/18/2020\n",
       "10039       IA  IVR/Online/Text  10/20/2020\n",
       "10271       US       IVR/Online  10/26/2020\n",
       "10534       AZ  IVR/Online/Text  10/30/2020\n",
       "10540       FL  IVR/Online/Text  10/30/2020\n",
       "10547       GA  IVR/Online/Text  10/30/2020\n",
       "10550       IA  IVR/Online/Text  10/30/2020\n",
       "10555       ME  IVR/Online/Text  10/30/2020\n",
       "10556       MI  IVR/Online/Text  10/30/2020\n",
       "10564       NC  IVR/Online/Text  10/30/2020\n",
       "10569       NV  IVR/Online/Text  10/30/2020\n",
       "10571       OH  IVR/Online/Text  10/30/2020\n",
       "10576       PA  IVR/Online/Text  10/30/2020\n",
       "10582       TX  IVR/Online/Text  10/30/2020\n",
       "10586       WI       IVR/Online  10/30/2020\n",
       "10629       M1  IVR/Online/Text  10/30/2020\n",
       "10630       M2  IVR/Online/Text  10/30/2020\n",
       "10631       N2       IVR/Online  10/30/2020"
      ]
     },
     "execution_count": 128,
     "metadata": {},
     "output_type": "execute_result"
    }
   ],
   "source": [
    "polls[(polls['pollster_rating_id'] == 88) & (polls['year'] == 2020) & (polls['type_simple'] == 'Pres-G')][['location', 'methodology', 'polldate']]"
   ]
  },
  {
   "cell_type": "code",
   "execution_count": 118,
   "metadata": {},
   "outputs": [
    {
     "data": {
      "text/plain": [
       "sample size unavailable"
      ]
     },
     "execution_count": 118,
     "metadata": {},
     "output_type": "execute_result"
    }
   ],
   "source": [
    "biglp('sample size unavailable')"
   ]
  },
  {
   "cell_type": "code",
   "execution_count": 126,
   "metadata": {},
   "outputs": [
    {
     "data": {
      "text/plain": [
       "Index(['poll_id', 'question_id', 'race_id', 'year', 'race', 'location',\n",
       "       'type_simple', 'type_detail', 'pollster', 'pollster_rating_id',\n",
       "       'methodology', 'partisan', 'polldate', 'samplesize', 'cand1_name',\n",
       "       'cand1_id', 'cand1_party', 'cand1_pct', 'cand2_name', 'cand2_id',\n",
       "       'cand2_party', 'cand2_pct', 'cand3_pct', 'margin_poll', 'electiondate',\n",
       "       'cand1_actual', 'cand2_actual', 'margin_actual', 'error', 'bias',\n",
       "       'rightcall', 'advancedplusminus', 'comment', 'org', 'person', 'state'],\n",
       "      dtype='object')"
      ]
     },
     "execution_count": 126,
     "metadata": {},
     "output_type": "execute_result"
    }
   ],
   "source": [
    "polls.columns"
   ]
  },
  {
   "cell_type": "code",
   "execution_count": 135,
   "metadata": {},
   "outputs": [],
   "source": [
    "def state_agg(state_code):\n",
    "    map = {\n",
    "        'N2' : 'NE',\n",
    "        'M1' : 'ME',\n",
    "        'M2' : 'ME'\n",
    "    }\n",
    "\n",
    "    if state_code in ['N2', 'M1', 'M2']:\n",
    "        return map[state_code]\n",
    "    else:\n",
    "        return state_code"
   ]
  },
  {
   "cell_type": "code",
   "execution_count": 136,
   "metadata": {},
   "outputs": [],
   "source": [
    "polls['state'] = polls['location'].apply(lambda x: x.split('-')[0])\n",
    "polls['state_agg'] = polls['state'].apply(state_agg)"
   ]
  },
  {
   "cell_type": "code",
   "execution_count": 137,
   "metadata": {},
   "outputs": [
    {
     "data": {
      "text/plain": [
       "array(['NY', 'OH', 'NV', 'ID', 'US', 'AZ', 'IL', 'IA', 'NE', 'WI', 'MT',\n",
       "       'GA', 'NC', 'CO', 'CT', 'MD', 'CA', 'FL', 'MN', 'NH', 'IN', 'HI',\n",
       "       'NM', 'RI', 'KY', 'OK', 'ND', 'WA', 'MA', 'MI', 'PA', 'TX', 'SD',\n",
       "       'UT', 'AL', 'KS', 'AR', 'MS', 'MO', 'SC', 'ME', 'OR', 'LA', 'VA',\n",
       "       'VT', 'WV', 'NJ', 'TN', 'DE', 'AK', 'WY', 'DC', 'PR'], dtype=object)"
      ]
     },
     "execution_count": 137,
     "metadata": {},
     "output_type": "execute_result"
    }
   ],
   "source": [
    "polls['state_agg'].unique()"
   ]
  },
  {
   "cell_type": "code",
   "execution_count": 143,
   "metadata": {},
   "outputs": [
    {
     "data": {
      "text/plain": [
       "493"
      ]
     },
     "execution_count": 143,
     "metadata": {},
     "output_type": "execute_result"
    }
   ],
   "source": [
    "len(polls['pollster_rating_id'].unique())"
   ]
  },
  {
   "cell_type": "code",
   "execution_count": 144,
   "metadata": {},
   "outputs": [
    {
     "data": {
      "text/html": [
       "<div>\n",
       "<style scoped>\n",
       "    .dataframe tbody tr th:only-of-type {\n",
       "        vertical-align: middle;\n",
       "    }\n",
       "\n",
       "    .dataframe tbody tr th {\n",
       "        vertical-align: top;\n",
       "    }\n",
       "\n",
       "    .dataframe thead th {\n",
       "        text-align: right;\n",
       "    }\n",
       "</style>\n",
       "<table border=\"1\" class=\"dataframe\">\n",
       "  <thead>\n",
       "    <tr style=\"text-align: right;\">\n",
       "      <th></th>\n",
       "      <th>Rank</th>\n",
       "      <th>Pollster</th>\n",
       "      <th>Pollster Rating ID</th>\n",
       "      <th>Polls Analyzed</th>\n",
       "      <th>AAPOR/Roper</th>\n",
       "      <th>Banned by 538</th>\n",
       "      <th>Predictive Plus-Minus</th>\n",
       "      <th>538 Grade</th>\n",
       "      <th>Mean-Reverted Bias</th>\n",
       "      <th>Races Called Correctly</th>\n",
       "      <th>...</th>\n",
       "      <th>Simple Average Error</th>\n",
       "      <th>Simple Expected Error</th>\n",
       "      <th>Simple Plus-Minus</th>\n",
       "      <th>Advanced Plus-Minus</th>\n",
       "      <th>Mean-Reverted Advanced Plus-Minus</th>\n",
       "      <th># of Polls for Bias Analysis</th>\n",
       "      <th>Bias</th>\n",
       "      <th>House Effect</th>\n",
       "      <th>Average Distance from Polling Average (ADPA)</th>\n",
       "      <th>Herding Penalty</th>\n",
       "    </tr>\n",
       "  </thead>\n",
       "  <tbody>\n",
       "    <tr>\n",
       "      <th>0</th>\n",
       "      <td>1</td>\n",
       "      <td>The New York Times/Siena College</td>\n",
       "      <td>448</td>\n",
       "      <td>95</td>\n",
       "      <td>yes</td>\n",
       "      <td>no</td>\n",
       "      <td>-1.192860</td>\n",
       "      <td>A+</td>\n",
       "      <td>1.006012</td>\n",
       "      <td>0.747368</td>\n",
       "      <td>...</td>\n",
       "      <td>4.043250</td>\n",
       "      <td>5.364792</td>\n",
       "      <td>-1.318429</td>\n",
       "      <td>-1.625523</td>\n",
       "      <td>-1.318372</td>\n",
       "      <td>94</td>\n",
       "      <td>1.243260</td>\n",
       "      <td>0.700506</td>\n",
       "      <td>3.575558</td>\n",
       "      <td>0.261188</td>\n",
       "    </tr>\n",
       "    <tr>\n",
       "      <th>1</th>\n",
       "      <td>2</td>\n",
       "      <td>Selzer &amp; Co.</td>\n",
       "      <td>304</td>\n",
       "      <td>53</td>\n",
       "      <td>yes</td>\n",
       "      <td>no</td>\n",
       "      <td>-1.175911</td>\n",
       "      <td>A+</td>\n",
       "      <td>0.161120</td>\n",
       "      <td>0.811321</td>\n",
       "      <td>...</td>\n",
       "      <td>4.916848</td>\n",
       "      <td>5.959235</td>\n",
       "      <td>-1.039274</td>\n",
       "      <td>-1.622671</td>\n",
       "      <td>-1.000844</td>\n",
       "      <td>35</td>\n",
       "      <td>0.297645</td>\n",
       "      <td>-0.343495</td>\n",
       "      <td>5.288403</td>\n",
       "      <td>0.000000</td>\n",
       "    </tr>\n",
       "    <tr>\n",
       "      <th>2</th>\n",
       "      <td>3</td>\n",
       "      <td>Research &amp; Polling Inc.</td>\n",
       "      <td>280</td>\n",
       "      <td>44</td>\n",
       "      <td>no</td>\n",
       "      <td>no</td>\n",
       "      <td>-0.965392</td>\n",
       "      <td>A+</td>\n",
       "      <td>-0.582568</td>\n",
       "      <td>0.886364</td>\n",
       "      <td>...</td>\n",
       "      <td>4.177286</td>\n",
       "      <td>5.548050</td>\n",
       "      <td>-1.367651</td>\n",
       "      <td>-1.938115</td>\n",
       "      <td>-1.183301</td>\n",
       "      <td>43</td>\n",
       "      <td>-0.956078</td>\n",
       "      <td>0.632896</td>\n",
       "      <td>4.642076</td>\n",
       "      <td>0.286276</td>\n",
       "    </tr>\n",
       "    <tr>\n",
       "      <th>3</th>\n",
       "      <td>4</td>\n",
       "      <td>SurveyUSA</td>\n",
       "      <td>325</td>\n",
       "      <td>856</td>\n",
       "      <td>no</td>\n",
       "      <td>no</td>\n",
       "      <td>-0.917320</td>\n",
       "      <td>A+</td>\n",
       "      <td>0.003251</td>\n",
       "      <td>0.891355</td>\n",
       "      <td>...</td>\n",
       "      <td>4.681671</td>\n",
       "      <td>5.642531</td>\n",
       "      <td>-0.957747</td>\n",
       "      <td>-1.094410</td>\n",
       "      <td>-1.043528</td>\n",
       "      <td>697</td>\n",
       "      <td>0.003447</td>\n",
       "      <td>-0.526230</td>\n",
       "      <td>4.969035</td>\n",
       "      <td>0.126963</td>\n",
       "    </tr>\n",
       "    <tr>\n",
       "      <th>4</th>\n",
       "      <td>5</td>\n",
       "      <td>Marquette University Law School</td>\n",
       "      <td>195</td>\n",
       "      <td>15</td>\n",
       "      <td>yes</td>\n",
       "      <td>no</td>\n",
       "      <td>-0.908215</td>\n",
       "      <td>A/B</td>\n",
       "      <td>0.237527</td>\n",
       "      <td>0.800000</td>\n",
       "      <td>...</td>\n",
       "      <td>2.846556</td>\n",
       "      <td>5.938505</td>\n",
       "      <td>-3.088836</td>\n",
       "      <td>-3.191347</td>\n",
       "      <td>-1.208475</td>\n",
       "      <td>11</td>\n",
       "      <td>0.751227</td>\n",
       "      <td>-0.199840</td>\n",
       "      <td>4.201278</td>\n",
       "      <td>0.257600</td>\n",
       "    </tr>\n",
       "  </tbody>\n",
       "</table>\n",
       "<p>5 rows × 21 columns</p>\n",
       "</div>"
      ],
      "text/plain": [
       "   Rank                          Pollster  Pollster Rating ID  Polls Analyzed  \\\n",
       "0     1  The New York Times/Siena College                 448              95   \n",
       "1     2                      Selzer & Co.                 304              53   \n",
       "2     3           Research & Polling Inc.                 280              44   \n",
       "3     4                         SurveyUSA                 325             856   \n",
       "4     5   Marquette University Law School                 195              15   \n",
       "\n",
       "  AAPOR/Roper Banned by 538  Predictive Plus-Minus 538 Grade  \\\n",
       "0         yes            no              -1.192860        A+   \n",
       "1         yes            no              -1.175911        A+   \n",
       "2          no            no              -0.965392        A+   \n",
       "3          no            no              -0.917320        A+   \n",
       "4         yes            no              -0.908215       A/B   \n",
       "\n",
       "   Mean-Reverted Bias  Races Called Correctly  ...  Simple Average Error  \\\n",
       "0            1.006012                0.747368  ...              4.043250   \n",
       "1            0.161120                0.811321  ...              4.916848   \n",
       "2           -0.582568                0.886364  ...              4.177286   \n",
       "3            0.003251                0.891355  ...              4.681671   \n",
       "4            0.237527                0.800000  ...              2.846556   \n",
       "\n",
       "   Simple Expected Error  Simple Plus-Minus  Advanced Plus-Minus  \\\n",
       "0               5.364792          -1.318429            -1.625523   \n",
       "1               5.959235          -1.039274            -1.622671   \n",
       "2               5.548050          -1.367651            -1.938115   \n",
       "3               5.642531          -0.957747            -1.094410   \n",
       "4               5.938505          -3.088836            -3.191347   \n",
       "\n",
       "   Mean-Reverted Advanced Plus-Minus  # of Polls for Bias Analysis      Bias  \\\n",
       "0                          -1.318372                            94  1.243260   \n",
       "1                          -1.000844                            35  0.297645   \n",
       "2                          -1.183301                            43 -0.956078   \n",
       "3                          -1.043528                           697  0.003447   \n",
       "4                          -1.208475                            11  0.751227   \n",
       "\n",
       "   House Effect  Average Distance from Polling Average (ADPA)  Herding Penalty  \n",
       "0      0.700506                                      3.575558         0.261188  \n",
       "1     -0.343495                                      5.288403         0.000000  \n",
       "2      0.632896                                      4.642076         0.286276  \n",
       "3     -0.526230                                      4.969035         0.126963  \n",
       "4     -0.199840                                      4.201278         0.257600  \n",
       "\n",
       "[5 rows x 21 columns]"
      ]
     },
     "execution_count": 144,
     "metadata": {},
     "output_type": "execute_result"
    }
   ],
   "source": [
    "df.head()"
   ]
  },
  {
   "cell_type": "code",
   "execution_count": 201,
   "metadata": {},
   "outputs": [],
   "source": [
    "missing = []\n",
    "for id in polls['pollster_rating_id'].unique():\n",
    "    if int(id) not in list(df['Pollster Rating ID']):\n",
    "        missing.append(id)"
   ]
  },
  {
   "cell_type": "code",
   "execution_count": 211,
   "metadata": {},
   "outputs": [],
   "source": [
    "missing_grades = []\n",
    "for id in missing:\n",
    "    for row in polls[polls['pollster_rating_id'] == id].values:\n",
    "        if row[8] not in missing_grades:\n",
    "            missing_grades.append(row[8])"
   ]
  },
  {
   "cell_type": "code",
   "execution_count": 212,
   "metadata": {},
   "outputs": [
    {
     "data": {
      "text/plain": [
       "['University of Maryland',\n",
       " 'Brigham Young University',\n",
       " 'Research America Inc.',\n",
       " 'Insights West',\n",
       " 'Sacred Heart University',\n",
       " 'Hofstra University']"
      ]
     },
     "execution_count": 212,
     "metadata": {},
     "output_type": "execute_result"
    }
   ],
   "source": [
    "missing_grades"
   ]
  },
  {
   "cell_type": "code",
   "execution_count": 216,
   "metadata": {},
   "outputs": [
    {
     "name": "stdout",
     "output_type": "stream",
     "text": [
      "University of Maryland 1\n",
      "Brigham Young University 4\n",
      "Research America Inc. 3\n",
      "Insights West 9\n",
      "Sacred Heart University 2\n",
      "Hofstra University 2\n"
     ]
    }
   ],
   "source": [
    "for pollster in missing_grades:\n",
    "    print(pollster, polls[polls['pollster'] == pollster].shape[0])"
   ]
  },
  {
   "cell_type": "code",
   "execution_count": null,
   "metadata": {},
   "outputs": [],
   "source": []
  }
 ],
 "metadata": {
  "kernelspec": {
   "display_name": "base",
   "language": "python",
   "name": "python3"
  },
  "language_info": {
   "codemirror_mode": {
    "name": "ipython",
    "version": 3
   },
   "file_extension": ".py",
   "mimetype": "text/x-python",
   "name": "python",
   "nbconvert_exporter": "python",
   "pygments_lexer": "ipython3",
   "version": "3.11.3"
  },
  "orig_nbformat": 4
 },
 "nbformat": 4,
 "nbformat_minor": 2
}
